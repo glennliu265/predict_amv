{
 "cells": [
  {
   "cell_type": "markdown",
   "metadata": {},
   "source": [
    "# Linear Regression, Leadtime Testing\n",
    "\n",
    "Train a linear regression model to predict AMV at specified leadtimes.\n",
    "\n",
    "Uses data that has been preprocessed by \"output_normalized_data.ipynb\"\n",
    "in /Preprocessing"
   ]
  },
  {
   "cell_type": "code",
   "execution_count": 1,
   "metadata": {},
   "outputs": [],
   "source": [
    "import numpy as np\n",
    "import matplotlib.pyplot as plt\n",
    "import time\n",
    "from tqdm import tqdm\n",
    "import os\n",
    "from numpy.linalg import inv"
   ]
  },
  {
   "cell_type": "code",
   "execution_count": 2,
   "metadata": {},
   "outputs": [],
   "source": [
    "# User Edits\n",
    "leads          = np.arange(0,25,1)    # Time ahead (in years) to forecast AMV\n",
    "resolution     = '2deg'               # Resolution of input (2deg or full)\n",
    "season         = 'Ann'                # Season to take mean over\n",
    "indexregion    = 'NAT'                # One of the following (\"SPG\",\"STG\",\"TRO\",\"NAT\")\n",
    "outpath        = os.getcwd()\n",
    "\n",
    "# Training/Testing Subsets\n",
    "percent_train = 0.8   # Percentage of data to use for training (remaining for testing)\n",
    "ens           = 40    # Ensemble members to use\n",
    "channels      = 3"
   ]
  },
  {
   "cell_type": "code",
   "execution_count": 4,
   "metadata": {},
   "outputs": [],
   "source": [
    "# Functions\n",
    "def calc_AMV_index(region,invar,lat,lon):\n",
    "    \"\"\"\n",
    "    Select bounding box for a given AMV region for an input variable\n",
    "        \"SPG\" - Subpolar Gyre\n",
    "        \"STG\" - Subtropical Gyre\n",
    "        \"TRO\" - Tropics\n",
    "        \"NAT\" - North Atlantic\n",
    "    \n",
    "    Parameters\n",
    "    ----------\n",
    "    region : STR\n",
    "        One of following the 3-letter combinations indicating selected region\n",
    "        (\"SPG\",\"STG\",\"TRO\",\"NAT\")\n",
    "        \n",
    "    var : ARRAY [Ensemble x time x lat x lon]\n",
    "        Input Array to select from\n",
    "    lat : ARRAY\n",
    "        Latitude values\n",
    "    lon : ARRAY\n",
    "        Longitude values    \n",
    "\n",
    "    Returns\n",
    "    -------\n",
    "    amv_index [ensemble x time]\n",
    "        AMV Index for a given region/variable\n",
    "\n",
    "    \"\"\"\n",
    "    \n",
    "    # Select AMV Index region\n",
    "    bbox_SP = [-60,-15,40,65]\n",
    "    bbox_ST = [-80,-10,20,40]\n",
    "    bbox_TR = [-75,-15,0,20]\n",
    "    bbox_NA = [-80,0 ,0,65]\n",
    "    regions = (\"SPG\",\"STG\",\"TRO\",\"NAT\")        # Region Names\n",
    "    bboxes = (bbox_SP,bbox_ST,bbox_TR,bbox_NA) # Bounding Boxes\n",
    "    \n",
    "    # Get bounding box\n",
    "    bbox = bboxes[regions.index(region)]\n",
    "    \n",
    "    # Select Region\n",
    "    selvar = invar.copy()\n",
    "    klon = np.where((lon>=bbox[0]) & (lon<=bbox[1]))[0]\n",
    "    klat = np.where((lat>=bbox[2]) & (lat<=bbox[3]))[0]\n",
    "    selvar = selvar[:,:,klat[:,None],klon[None,:]]\n",
    "    \n",
    "    # Take mean ove region\n",
    "    amv_index = np.nanmean(selvar,(2,3))\n",
    "    \n",
    "    return amv_index"
   ]
  },
  {
   "cell_type": "code",
   "execution_count": 5,
   "metadata": {},
   "outputs": [],
   "source": [
    "# Load the data for whole North Atlantic\n",
    "sst_normed = np.load('../../CESM_data/CESM_sst_normalized_lat_weighted_%s_NAT_%s.npy' % (resolution,season)).astype(np.float32)\n",
    "sss_normed = np.load('../../CESM_data/CESM_sss_normalized_lat_weighted_%s_NAT_%s.npy' % (resolution,season)).astype(np.float32)\n",
    "psl_normed = np.load('../../CESM_data/CESM_psl_normalized_lat_weighted_%s_NAT_%s.npy' % (resolution,season)).astype(np.float32)\n",
    "invars = [sst_normed,sss_normed,psl_normed]"
   ]
  },
  {
   "cell_type": "code",
   "execution_count": 6,
   "metadata": {},
   "outputs": [],
   "source": [
    "lon = np.load(\"../../CESM_data/lon_%s_NAT.npy\"%(resolution))\n",
    "lat = np.load(\"../../CESM_data/lat_%s_NAT.npy\"%(resolution))\n",
    "nens,tstep,nlat,nlon = sst_normed.shape"
   ]
  },
  {
   "cell_type": "code",
   "execution_count": 11,
   "metadata": {},
   "outputs": [],
   "source": [
    "corr_grid_test = []\n",
    "corr_grid_train = []\n",
    "\n",
    "leads = np.arange(0,25,1)\n",
    "\n",
    "for lead in leads:\n",
    "    y = calc_AMV_index(indexregion,sst_normed[:ens,lead:,:,:],lat,lon)\n",
    "    y = y.reshape((y.shape[0]*y.shape[1]))[:,None]\n",
    "    X = np.transpose(\n",
    "        np.array(invars)[:,:ens,0:tstep-lead,:,:].reshape(channels,(tstep-lead)*ens,nlat,nlon),\n",
    "        (1,0,2,3))\n",
    "    X = np.mean(X,axis=(2,3))\n",
    "    X_train =  X[0:int(np.floor(percent_train*(tstep-lead)*ens)),:].T\n",
    "    X_val =  X[int(np.floor(percent_train*(tstep-lead)*ens)):,:].T\n",
    "    y_train =  y[0:int(np.floor(percent_train*(tstep-lead)*ens)),:]\n",
    "    y_val =  y[int(np.floor(percent_train*(tstep-lead)*ens)):,:] \n",
    "\n",
    "    \n",
    "    theta = (inv(X_train @ X_train.T) @ X_train ) @ y_train\n",
    "    y_pred_train = (theta.T @ X_train).T\n",
    "    y_pred_val = (theta.T @ X_val).T\n",
    "    corr_grid_train.append( np.corrcoef(y_pred_train[:,0], y_train[:,0])[0,1] )\n",
    "    corr_grid_test.append( np.corrcoef(y_pred_val[:,0], y_val[:,0])[0,1] )\n",
    "    "
   ]
  },
  {
   "cell_type": "code",
   "execution_count": 9,
   "metadata": {},
   "outputs": [
    {
     "data": {
      "text/plain": [
       "Text(0, 0.5, 'correlation')"
      ]
     },
     "execution_count": 9,
     "metadata": {},
     "output_type": "execute_result"
    },
    {
     "data": {
      "image/png": "[encoded data removed]",
      "text/plain": [
       "<Figure size 432x288 with 1 Axes>"
      ]
     },
     "metadata": {
      "needs_background": "light"
     },
     "output_type": "display_data"
    }
   ],
   "source": [
    "plt.plot(leads, corr_grid_train)\n",
    "plt.plot(leads, corr_grid_test)\n",
    "plt.title('Linear regression correlation')\n",
    "plt.legend(['train corr','test corr'])\n",
    "plt.xlabel('lag (year)')\n",
    "plt.ylabel('correlation')"
   ]
  },
  {
   "cell_type": "markdown",
   "metadata": {},
   "source": [
    "# Loop to train for all combinations of predictors\n"
   ]
  },
  {
   "cell_type": "code",
   "execution_count": 22,
   "metadata": {},
   "outputs": [
    {
     "name": "stderr",
     "output_type": "stream",
     "text": [
      "100%|██████████| 25/25 [00:00<00:00, 28.79it/s]\n",
      " 12%|█▏        | 3/25 [00:00<00:00, 24.98it/s]"
     ]
    },
    {
     "name": "stdout",
     "output_type": "stream",
     "text": [
      "Saved data to /Users/gliu/Downloads/2020_Fall/6.862/Project/predict_amv/Linear_regression/leadtime_testing_SST_Ann2deg_NAT_MLR_nepoch10_nens40_lead24.npz. Finished variable SST\n"
     ]
    },
    {
     "name": "stderr",
     "output_type": "stream",
     "text": [
      "100%|██████████| 25/25 [00:00<00:00, 28.61it/s]\n",
      " 12%|█▏        | 3/25 [00:00<00:00, 25.11it/s]"
     ]
    },
    {
     "name": "stdout",
     "output_type": "stream",
     "text": [
      "Saved data to /Users/gliu/Downloads/2020_Fall/6.862/Project/predict_amv/Linear_regression/leadtime_testing_SSS_Ann2deg_NAT_MLR_nepoch10_nens40_lead24.npz. Finished variable SSS\n"
     ]
    },
    {
     "name": "stderr",
     "output_type": "stream",
     "text": [
      "100%|██████████| 25/25 [00:00<00:00, 28.36it/s]\n",
      "  8%|▊         | 2/25 [00:00<00:01, 18.15it/s]"
     ]
    },
    {
     "name": "stdout",
     "output_type": "stream",
     "text": [
      "Saved data to /Users/gliu/Downloads/2020_Fall/6.862/Project/predict_amv/Linear_regression/leadtime_testing_PSL_Ann2deg_NAT_MLR_nepoch10_nens40_lead24.npz. Finished variable PSL\n"
     ]
    },
    {
     "name": "stderr",
     "output_type": "stream",
     "text": [
      "100%|██████████| 25/25 [00:01<00:00, 18.62it/s]"
     ]
    },
    {
     "name": "stdout",
     "output_type": "stream",
     "text": [
      "Saved data to /Users/gliu/Downloads/2020_Fall/6.862/Project/predict_amv/Linear_regression/leadtime_testing_ALL_Ann2deg_NAT_MLR_nepoch10_nens40_lead24.npz. Finished variable ALL\n"
     ]
    },
    {
     "name": "stderr",
     "output_type": "stream",
     "text": [
      "\n"
     ]
    }
   ],
   "source": [
    "\n",
    "nvar       = 4\n",
    "nlead      = len(leads)\n",
    "netname    = \"MLR\"\n",
    "max_epochs = 10 # Filler variable because we didn't use epochs..\n",
    "expname    = \"%s2deg_NAT_%s_nepoch%02i_nens%02i_lead%02i\" % (season,netname,max_epochs,ens,len(leads)-1)\n",
    "\n",
    "# Preallocate Evaluation Metrics...\n",
    "corr_grid_train = np.zeros((nlead))\n",
    "corr_grid_test  = np.zeros((nlead))\n",
    "test_losses     = np.zeros((nlead))\n",
    "train_losses    = np.zeros((nlead))\n",
    "\n",
    "for v in range(nvar): # Loop for each variable\n",
    "    # -------------------\n",
    "    # Set input variables\n",
    "    # -------------------\n",
    "    channels = 1\n",
    "    start = time.time()\n",
    "    if v == 0:\n",
    "        varname = 'SST'\n",
    "        invars = [sst_normed]\n",
    "    elif v == 1:\n",
    "        varname = 'SSS'\n",
    "        invars = [sss_normed]\n",
    "    elif v == 2:\n",
    "        varname = 'PSL'\n",
    "        invars = [psl_normed]\n",
    "    elif v == 3:\n",
    "        channels = 3\n",
    "        varname = 'ALL'\n",
    "        invars = [sst_normed,sss_normed,psl_normed]\n",
    "    outname = \"/leadtime_testing_%s_%s.npz\" % (varname,expname)\n",
    "    for lead in tqdm(leads):\n",
    "        \n",
    "        y = calc_AMV_index(indexregion,sst_normed[:ens,lead:,:,:],lat,lon)\n",
    "        y = y.reshape((y.shape[0]*y.shape[1]))[:,None]\n",
    "        X = np.transpose(\n",
    "            np.array(invars)[:,:ens,0:tstep-lead,:,:].reshape(channels,(tstep-lead)*ens,nlat,nlon),\n",
    "            (1,0,2,3))\n",
    "        X = np.mean(X,axis=(2,3))\n",
    "        X_train =  X[0:int(np.floor(percent_train*(tstep-lead)*ens)),:].T\n",
    "        X_val =  X[int(np.floor(percent_train*(tstep-lead)*ens)):,:].T\n",
    "        y_train =  y[0:int(np.floor(percent_train*(tstep-lead)*ens)),:]\n",
    "        y_val =  y[int(np.floor(percent_train*(tstep-lead)*ens)):,:] \n",
    "        \n",
    "    \n",
    "        theta = (inv(X_train @ X_train.T) @ X_train ) @ y_train\n",
    "        y_pred_train = (theta.T @ X_train).T\n",
    "        y_pred_val = (theta.T @ X_val).T\n",
    "        \n",
    "        test_losses[lead] = np.mean((y_pred_val-y_val)**2)\n",
    "        train_losses[lead] = np.mean((y_pred_train-y_train)**2)\n",
    "        \n",
    "        corr_grid_train[lead] = np.corrcoef(y_pred_train[:,0], y_train[:,0])[0,1]\n",
    "        corr_grid_test[lead]  = np.corrcoef(y_pred_val[:,0], y_val[:,0])[0,1]\n",
    "        \n",
    "        #print(\"\\nCompleted training for %s lead %i of %i\" % (varname,lead,len(leads)))\n",
    "    \n",
    "    \n",
    "    np.savez(outpath+\"/../../CESM_data/Metrics\"+outname,**{\n",
    "         'train_loss': train_losses,\n",
    "         'test_loss' : test_losses,\n",
    "         'test_corr' : corr_grid_test,\n",
    "         'train_corr': corr_grid_train}\n",
    "        )\n",
    "    print(\"Saved data to %s%s. Finished variable %s\"%(outpath,outname,varname))"
   ]
  },
  {
   "cell_type": "code",
   "execution_count": null,
   "metadata": {},
   "outputs": [],
   "source": []
  },
  {
   "cell_type": "code",
   "execution_count": null,
   "metadata": {},
   "outputs": [],
   "source": []
  },
  {
   "cell_type": "code",
   "execution_count": null,
   "metadata": {},
   "outputs": [],
   "source": []
  },
  {
   "cell_type": "code",
   "execution_count": null,
   "metadata": {},
   "outputs": [],
   "source": []
  }
 ],
 "metadata": {
  "kernelspec": {
   "display_name": "Python 3",
   "language": "python",
   "name": "python3"
  },
  "language_info": {
   "codemirror_mode": {
    "name": "ipython",
    "version": 3
   },
   "file_extension": ".py",
   "mimetype": "text/x-python",
   "name": "python",
   "nbconvert_exporter": "python",
   "pygments_lexer": "ipython3",
   "version": "3.7.6"
  },
  "varInspector": {
   "cols": {
    "lenName": 16,
    "lenType": 16,
    "lenVar": 40
   },
   "kernels_config": {
    "python": {
     "delete_cmd_postfix": "",
     "delete_cmd_prefix": "del ",
     "library": "var_list.py",
     "varRefreshCmd": "print(var_dic_list())"
    },
    "r": {
     "delete_cmd_postfix": ") ",
     "delete_cmd_prefix": "rm(",
     "library": "var_list.r",
     "varRefreshCmd": "cat(var_dic_list()) "
    }
   },
   "position": {
    "height": "671.85px",
    "left": "1491px",
    "right": "20px",
    "top": "112px",
    "width": "269px"
   },
   "types_to_exclude": [
    "module",
    "function",
    "builtin_function_or_method",
    "instance",
    "_Feature"
   ],
   "window_display": true
  }
 },
 "nbformat": 4,
 "nbformat_minor": 4
}
