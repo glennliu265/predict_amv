{
 "cells": [
  {
   "cell_type": "code",
   "execution_count": 1,
   "metadata": {},
   "outputs": [],
   "source": [
    "import numpy as np\n",
    "import matplotlib.pyplot as plt\n",
    "import pandas as pd\n",
    "import xarray as xr\n",
    "import scipy\n",
    "\n",
    "from tqdm import tqdm\n",
    "\n",
    "import torch\n",
    "from torch import nn\n",
    "import torch.optim as optim\n",
    "from torch.utils.data import DataLoader, TensorDataset\n",
    "import os"
   ]
  },
  {
   "cell_type": "code",
   "execution_count": 24,
   "metadata": {},
   "outputs": [],
   "source": [
    "model_type = 'CNN2'\n",
    "invar = 'ALL'\n",
    "channels = 3\n",
    "resolution = '2deg'\n",
    "indexregion = 'NAT'\n",
    "percent_train = 1"
   ]
  },
  {
   "cell_type": "code",
   "execution_count": 3,
   "metadata": {},
   "outputs": [],
   "source": [
    "def calc_layerdims(nx,ny,filtersizes,filterstrides,poolsizes,poolstrides,nchannels):\n",
    "    \"\"\"\n",
    "    For a series of N convolutional layers, calculate the size of the first fully-connected \n",
    "    layer\n",
    "    \n",
    "    Inputs:\n",
    "        nx:           x dimensions of input\n",
    "        ny:           y dimensions of input\n",
    "        filtersize:   [ARRAY,length N] sizes of the filter in each layer [(x1,y1),[x2,y2]]\n",
    "        poolsize:     [ARRAY,length N] sizes of the maxpooling kernel in each layer\n",
    "        nchannels:    [ARRAY,] number of out_channels in each layer\n",
    "    output:\n",
    "        flattensize:  flattened dimensions of layer for input into FC layer\n",
    "    \n",
    "    \"\"\"\n",
    "    \n",
    "    # # ## Debug entry\n",
    "    # # 2 layer CNN settings \n",
    "    # nchannels     = [32,64]\n",
    "    # filtersizes   = [[2,3],[3,3]]\n",
    "    # filterstrides = [[1,1],[1,1]]\n",
    "    # poolsizes     = [[2,3],[2,3]]\n",
    "    # poolstrides   = [[2,3],[2,3]]\n",
    "    # nx = 33\n",
    "    # ny = 41\n",
    "    # # # ----\n",
    "    \n",
    "    \n",
    "    N = len(filtersizes)\n",
    "    xsizes = [nx]\n",
    "    ysizes = [ny]\n",
    "    fcsizes  = []\n",
    "    \n",
    "    for i in range(N):\n",
    "        \n",
    "        xsizes.append(np.floor((xsizes[i]-filtersizes[i][0])/filterstrides[i][0])+1)\n",
    "        ysizes.append(np.floor((ysizes[i]-filtersizes[i][1])/filterstrides[i][1])+1)\n",
    "        \n",
    "        \n",
    "        xsizes[i+1] = np.floor((xsizes[i+1] - poolsizes[i][0])/poolstrides[i][0]+1)\n",
    "        ysizes[i+1] = np.floor((ysizes[i+1] - poolsizes[i][1])/poolstrides[i][1]+1)\n",
    "        \n",
    "        fcsizes.append(np.floor(xsizes[i+1]*ysizes[i+1]*nchannels[i]))\n",
    "    \n",
    "    return int(fcsizes[-1])"
   ]
  },
  {
   "cell_type": "code",
   "execution_count": 4,
   "metadata": {},
   "outputs": [],
   "source": [
    "def calc_AMV_index(region,invar,lat,lon):\n",
    "    \"\"\"\n",
    "    Select bounding box for a given AMV region for an input variable\n",
    "        \"SPG\" - Subpolar Gyre\n",
    "        \"STG\" - Subtropical Gyre\n",
    "        \"TRO\" - Tropics\n",
    "        \"NAT\" - North Atlantic\n",
    "    \n",
    "    Parameters\n",
    "    ----------\n",
    "    region : STR\n",
    "        One of following the 3-letter combinations indicating selected region\n",
    "        (\"SPG\",\"STG\",\"TRO\",\"NAT\")\n",
    "        \n",
    "    var : ARRAY [Ensemble x time x lat x lon]\n",
    "        Input Array to select from\n",
    "    lat : ARRAY\n",
    "        Latitude values\n",
    "    lon : ARRAY\n",
    "        Longitude values    \n",
    "\n",
    "    Returns\n",
    "    -------\n",
    "    amv_index [ensemble x time]\n",
    "        AMV Index for a given region/variable\n",
    "\n",
    "    \"\"\"\n",
    "    \n",
    "    # Select AMV Index region\n",
    "    bbox_SP = [-60,-15,40,65]\n",
    "    bbox_ST = [-80,-10,20,40]\n",
    "    bbox_TR = [-75,-15,0,20]\n",
    "    bbox_NA = [-80,0 ,0,65]\n",
    "    regions = (\"SPG\",\"STG\",\"TRO\",\"NAT\")        # Region Names\n",
    "    bboxes = (bbox_SP,bbox_ST,bbox_TR,bbox_NA) # Bounding Boxes\n",
    "    \n",
    "    # Get bounding box\n",
    "    bbox = bboxes[regions.index(region)]\n",
    "    \n",
    "    # Select Region\n",
    "    selvar = invar.copy()\n",
    "    klon = np.where((lon>=bbox[0]) & (lon<=bbox[1]))[0]\n",
    "    klat = np.where((lat>=bbox[2]) & (lat<=bbox[3]))[0]\n",
    "    selvar = selvar[:,klat[:,None],klon[None,:]]\n",
    "    \n",
    "    # Take mean over region\n",
    "    amv_index = np.nanmean(selvar,(1,2))\n",
    "    \n",
    "    return amv_index"
   ]
  },
  {
   "cell_type": "code",
   "execution_count": null,
   "metadata": {},
   "outputs": [],
   "source": []
  },
  {
   "cell_type": "code",
   "execution_count": 5,
   "metadata": {},
   "outputs": [],
   "source": [
    "sst = xr.open_dataset('../../CESM_data/HadISST_sst_NAtl_18700101_20181201_Regridded2deg.nc')\n",
    "sss = xr.open_dataset('../../CESM_data/CGLORSv5_sss_NAtl_19800115_20160101_Regridded2deg.nc')\n",
    "psl = xr.open_dataset('../../CESM_data/NOAA20CR_psl_NAtl_18510101_20141201_Regridded2deg.nc')\n",
    "\n",
    "sst = (sst.groupby('time.month') - sst.groupby('time.month').mean('time')).groupby('time.year').mean('time')\n",
    "sss = (sss.groupby('time.month') - sss.groupby('time.month').mean('time')).groupby('time.year').mean('time')\n",
    "psl = (psl.groupby('time.month') - psl.groupby('time.month').mean('time')).groupby('time.year').mean('time')"
   ]
  },
  {
   "cell_type": "code",
   "execution_count": null,
   "metadata": {},
   "outputs": [],
   "source": []
  },
  {
   "cell_type": "code",
   "execution_count": 6,
   "metadata": {},
   "outputs": [],
   "source": [
    "sst_normed = ((sst - sst.mean())/sst.std())['sst'][1980-1870:-2018+2014,0:33,5:46].values.astype(np.float32)\n",
    "\n",
    "sss_normed = ((sss - sss.mean())/sss.std())['sss'][:-2016+2014,0:33,5:46].values.astype(np.float32)\n",
    "\n",
    "psl_normed = ((psl - psl.mean())/psl.std())['psl'][1980-1851:,0:33,5:46].values.astype(np.float32)\n"
   ]
  },
  {
   "cell_type": "code",
   "execution_count": 8,
   "metadata": {},
   "outputs": [],
   "source": [
    "# Load lat/lon\n",
    "lon = np.load(\"../../CESM_data/lon_%s_NAT.npy\"%(resolution))\n",
    "lat = np.load(\"../../CESM_data/lat_%s_NAT.npy\"%(resolution))\n",
    "tstep,nlat,nlon = sst_normed.shape"
   ]
  },
  {
   "cell_type": "code",
   "execution_count": 31,
   "metadata": {},
   "outputs": [],
   "source": [
    "\n",
    "nchannels     = [32,64]\n",
    "filtersizes   = [[2,3],[3,3]]\n",
    "filterstrides = [[1,1],[1,1]]\n",
    "poolsizes     = [[2,3],[2,3]]\n",
    "poolstrides   = [[2,3],[2,3]]\n",
    "firstlineardim = calc_layerdims(nlat,nlon,filtersizes,filterstrides,poolsizes,poolstrides,nchannels)\n",
    "layers  = [\n",
    "            nn.Conv2d(in_channels=channels, out_channels=nchannels[0], kernel_size=filtersizes[0]),\n",
    "            nn.ReLU(),\n",
    "            nn.MaxPool2d(kernel_size=poolsizes[0]),\n",
    "\n",
    "            nn.Conv2d(in_channels=nchannels[0], out_channels=nchannels[1], kernel_size=filtersizes[1]),\n",
    "            nn.ReLU(),\n",
    "            nn.MaxPool2d(kernel_size=poolsizes[1]),            \n",
    "\n",
    "            nn.Flatten(),\n",
    "            nn.Linear(in_features=firstlineardim,out_features=64),\n",
    "            nn.ReLU(),\n",
    "\n",
    "            #nn.Dropout(p=0.5),\n",
    "            nn.Linear(in_features=64,out_features=1)\n",
    "          ]\n",
    "model = nn.Sequential(*layers)\n",
    "\n"
   ]
  },
  {
   "cell_type": "code",
   "execution_count": 46,
   "metadata": {},
   "outputs": [],
   "source": [
    "path = '../../CESM_data/Models/'\n",
    "\n",
    "leads = np.arange(0,25,1)\n",
    "corrs = []\n",
    "for lead in leads:\n",
    "    y =  calc_AMV_index(indexregion,sst_normed[lead:,:,:],lat,lon) \n",
    "    y = y.reshape(y.shape[0],1)\n",
    "    invars = [sst_normed,sss_normed,psl_normed]\n",
    "    X = np.transpose(\n",
    "                np.array(invars)[:,0:tstep-lead,:,:].reshape(channels,tstep-lead,nlat,nlon),\n",
    "                (1,0,2,3))\n",
    "    X[np.isnan(X)] = 0\n",
    "    X_train = torch.from_numpy( X[0:int(np.floor(percent_train*(tstep-lead))),:,:,:] )\n",
    "    X_val = torch.from_numpy( X[int(np.floor(percent_train*(tstep-lead))):,:,:,:] )\n",
    "\n",
    "    y_train = torch.from_numpy( y[0:int(np.floor(percent_train*(tstep-lead))),:] )\n",
    "    y_val = torch.from_numpy( y[int(np.floor(percent_train*(tstep-lead))):,:] )\n",
    "    \n",
    "    for fname in os.listdir(path):\n",
    "        if 'lead'+str(lead)+'.pt' in fname and model_type in fname and invar in fname:\n",
    "\n",
    "            model.load_state_dict(torch.load(path+fname))\n",
    "            model.eval()\n",
    "            y_pred = model(X_train)\n",
    "\n",
    "            corrs.append( np.corrcoef(y_pred[:,0].detach().numpy(),y[:,0])[0,1] )\n"
   ]
  },
  {
   "cell_type": "code",
   "execution_count": 47,
   "metadata": {},
   "outputs": [
    {
     "data": {
      "text/plain": [
       "[<matplotlib.lines.Line2D at 0x7fe008f1ba30>]"
      ]
     },
     "execution_count": 47,
     "metadata": {},
     "output_type": "execute_result"
    },
    {
     "data": {
      "image/png": "[encoded data removed]",
      "text/plain": [
       "<Figure size 432x288 with 1 Axes>"
      ]
     },
     "metadata": {
      "needs_background": "light"
     },
     "output_type": "display_data"
    }
   ],
   "source": [
    "plt.plot(leads, corrs)"
   ]
  },
  {
   "cell_type": "code",
   "execution_count": 30,
   "metadata": {},
   "outputs": [],
   "source": []
  },
  {
   "cell_type": "code",
   "execution_count": 26,
   "metadata": {},
   "outputs": [],
   "source": []
  },
  {
   "cell_type": "code",
   "execution_count": null,
   "metadata": {},
   "outputs": [],
   "source": []
  },
  {
   "cell_type": "code",
   "execution_count": null,
   "metadata": {},
   "outputs": [],
   "source": []
  },
  {
   "cell_type": "code",
   "execution_count": null,
   "metadata": {},
   "outputs": [],
   "source": []
  },
  {
   "cell_type": "code",
   "execution_count": null,
   "metadata": {},
   "outputs": [],
   "source": []
  },
  {
   "cell_type": "code",
   "execution_count": null,
   "metadata": {},
   "outputs": [],
   "source": []
  },
  {
   "cell_type": "code",
   "execution_count": null,
   "metadata": {},
   "outputs": [],
   "source": []
  },
  {
   "cell_type": "code",
   "execution_count": null,
   "metadata": {},
   "outputs": [],
   "source": []
  }
 ],
 "metadata": {
  "kernelspec": {
   "display_name": "Python 3",
   "language": "python",
   "name": "python3"
  },
  "language_info": {
   "codemirror_mode": {
    "name": "ipython",
    "version": 3
   },
   "file_extension": ".py",
   "mimetype": "text/x-python",
   "name": "python",
   "nbconvert_exporter": "python",
   "pygments_lexer": "ipython3",
   "version": "3.8.6"
  }
 },
 "nbformat": 4,
 "nbformat_minor": 4
}
