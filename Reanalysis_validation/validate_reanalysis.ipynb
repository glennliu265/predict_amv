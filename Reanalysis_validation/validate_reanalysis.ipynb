{
 "cells": [
  {
   "cell_type": "code",
   "execution_count": 1,
   "metadata": {},
   "outputs": [],
   "source": [
    "import numpy as np\n",
    "import matplotlib.pyplot as plt\n",
    "import pandas as pd\n",
    "import xarray as xr\n",
    "import scipy\n",
    "\n",
    "from tqdm import tqdm\n",
    "\n",
    "import torch\n",
    "from torch import nn\n",
    "import torch.optim as optim\n",
    "from torch.utils.data import DataLoader, TensorDataset\n",
    "import os"
   ]
  },
  {
   "cell_type": "code",
   "execution_count": 12,
   "metadata": {},
   "outputs": [],
   "source": [
    "model_type = 'CNN2' # can change to CNN2 and FNN2\n",
    "indexregion = 'NAT' # can change NAT, SPG\n",
    "season = 'DJF' # can change DJF, Ann\n",
    "\n",
    "invar = 'ALL'\n",
    "channels = 3\n",
    "resolution = '2deg'\n",
    "model_dir = season+'_'+indexregion\n",
    "# if set percent_train = 1 and max_epochs = 0, won't train the model\n",
    "percent_train = 1\n",
    "max_epochs = 0"
   ]
  },
  {
   "cell_type": "code",
   "execution_count": 3,
   "metadata": {},
   "outputs": [],
   "source": [
    "def calc_layerdims(nx,ny,filtersizes,filterstrides,poolsizes,poolstrides,nchannels):\n",
    "    \"\"\"\n",
    "    For a series of N convolutional layers, calculate the size of the first fully-connected \n",
    "    layer\n",
    "    \n",
    "    Inputs:\n",
    "        nx:           x dimensions of input\n",
    "        ny:           y dimensions of input\n",
    "        filtersize:   [ARRAY,length N] sizes of the filter in each layer [(x1,y1),[x2,y2]]\n",
    "        poolsize:     [ARRAY,length N] sizes of the maxpooling kernel in each layer\n",
    "        nchannels:    [ARRAY,] number of out_channels in each layer\n",
    "    output:\n",
    "        flattensize:  flattened dimensions of layer for input into FC layer\n",
    "    \n",
    "    \"\"\"\n",
    "    \n",
    "    # # ## Debug entry\n",
    "    # # 2 layer CNN settings \n",
    "    # nchannels     = [32,64]\n",
    "    # filtersizes   = [[2,3],[3,3]]\n",
    "    # filterstrides = [[1,1],[1,1]]\n",
    "    # poolsizes     = [[2,3],[2,3]]\n",
    "    # poolstrides   = [[2,3],[2,3]]\n",
    "    # nx = 33\n",
    "    # ny = 41\n",
    "    # # # ----\n",
    "    \n",
    "    \n",
    "    N = len(filtersizes)\n",
    "    xsizes = [nx]\n",
    "    ysizes = [ny]\n",
    "    fcsizes  = []\n",
    "    \n",
    "    for i in range(N):\n",
    "        \n",
    "        xsizes.append(np.floor((xsizes[i]-filtersizes[i][0])/filterstrides[i][0])+1)\n",
    "        ysizes.append(np.floor((ysizes[i]-filtersizes[i][1])/filterstrides[i][1])+1)\n",
    "        \n",
    "        \n",
    "        xsizes[i+1] = np.floor((xsizes[i+1] - poolsizes[i][0])/poolstrides[i][0]+1)\n",
    "        ysizes[i+1] = np.floor((ysizes[i+1] - poolsizes[i][1])/poolstrides[i][1]+1)\n",
    "        \n",
    "        fcsizes.append(np.floor(xsizes[i+1]*ysizes[i+1]*nchannels[i]))\n",
    "    \n",
    "    return int(fcsizes[-1])"
   ]
  },
  {
   "cell_type": "code",
   "execution_count": 4,
   "metadata": {},
   "outputs": [],
   "source": [
    "def build_FNN_simple(inputsize,outsize,nlayers,nunits,activations,dropout=0.5):\n",
    "    \"\"\"\n",
    "    Build a Feed-foward neural network with N layers, each with corresponding\n",
    "    number of units indicated in nunits and activations. \n",
    "    \n",
    "    A dropbout layer is included at the end\n",
    "    \n",
    "    inputs:\n",
    "        inputsize:  INT - size of the input layer\n",
    "        outputsize: INT  - size of output layer\n",
    "        nlayers:    INT - number of hidden layers to include \n",
    "        nunits:     Tuple of units in each layer\n",
    "        activations: Tuple of pytorch.nn activations\n",
    "        --optional--\n",
    "        dropout: percentage of units to dropout before last layer\n",
    "        \n",
    "    outputs:\n",
    "        Tuple containing FNN layers\n",
    "        \n",
    "    dependencies:\n",
    "        from pytorch import nn\n",
    "        \n",
    "    \"\"\"\n",
    "    layers = []\n",
    "    for n in range(nlayers+1):\n",
    "        #print(n)\n",
    "        if n == 0:\n",
    "            #print(\"First Layer\")\n",
    "            layers.append(nn.Linear(inputsize,nunits[n]))\n",
    "            layers.append(activations[n])\n",
    "            \n",
    "        elif n == (nlayers):\n",
    "            #print(\"Last Layer\")\n",
    "            layers.append(nn.Dropout(p=dropout))\n",
    "            layers.append(nn.Linear(nunits[n-1],outsize))\n",
    "            \n",
    "        else:\n",
    "            #print(\"Intermediate\")\n",
    "            layers.append(nn.Linear(nunits[n-1],nunits[n]))\n",
    "            layers.append(activations[n])\n",
    "    return layers"
   ]
  },
  {
   "cell_type": "code",
   "execution_count": 5,
   "metadata": {},
   "outputs": [],
   "source": [
    "def calc_AMV_index(region,invar,lat,lon):\n",
    "    \"\"\"\n",
    "    Select bounding box for a given AMV region for an input variable\n",
    "        \"SPG\" - Subpolar Gyre\n",
    "        \"STG\" - Subtropical Gyre\n",
    "        \"TRO\" - Tropics\n",
    "        \"NAT\" - North Atlantic\n",
    "    \n",
    "    Parameters\n",
    "    ----------\n",
    "    region : STR\n",
    "        One of following the 3-letter combinations indicating selected region\n",
    "        (\"SPG\",\"STG\",\"TRO\",\"NAT\")\n",
    "        \n",
    "    var : ARRAY [Ensemble x time x lat x lon]\n",
    "        Input Array to select from\n",
    "    lat : ARRAY\n",
    "        Latitude values\n",
    "    lon : ARRAY\n",
    "        Longitude values    \n",
    "\n",
    "    Returns\n",
    "    -------\n",
    "    amv_index [ensemble x time]\n",
    "        AMV Index for a given region/variable\n",
    "\n",
    "    \"\"\"\n",
    "    \n",
    "    # Select AMV Index region\n",
    "    bbox_SP = [-60,-15,40,65]\n",
    "    bbox_ST = [-80,-10,20,40]\n",
    "    bbox_TR = [-75,-15,0,20]\n",
    "    bbox_NA = [-80,0 ,0,65]\n",
    "    regions = (\"SPG\",\"STG\",\"TRO\",\"NAT\")        # Region Names\n",
    "    bboxes = (bbox_SP,bbox_ST,bbox_TR,bbox_NA) # Bounding Boxes\n",
    "    \n",
    "    # Get bounding box\n",
    "    bbox = bboxes[regions.index(region)]\n",
    "    \n",
    "    # Select Region\n",
    "    selvar = invar.copy()\n",
    "    klon = np.where((lon>=bbox[0]) & (lon<=bbox[1]))[0]\n",
    "    klat = np.where((lat>=bbox[2]) & (lat<=bbox[3]))[0]\n",
    "    selvar = selvar[:,klat[:,None],klon[None,:]]\n",
    "    \n",
    "    # Take mean over region\n",
    "    amv_index = np.nanmean(selvar,(1,2))\n",
    "    \n",
    "    return amv_index"
   ]
  },
  {
   "cell_type": "code",
   "execution_count": null,
   "metadata": {},
   "outputs": [],
   "source": []
  },
  {
   "cell_type": "code",
   "execution_count": 6,
   "metadata": {},
   "outputs": [],
   "source": [
    "sst = xr.open_dataset('../../CESM_data/HadISST_sst_NAtl_18700101_20181201_Regridded2deg.nc')\n",
    "sss = xr.open_dataset('../../CESM_data/CGLORSv5_sss_NAtl_19800115_20160101_Regridded2deg.nc')\n",
    "psl = xr.open_dataset('../../CESM_data/NOAA20CR_psl_NAtl_18510101_20141201_Regridded2deg.nc')\n",
    "\n",
    "\n",
    "if season == 'Ann':\n",
    "    sst = (sst.groupby('time.month') - sst.groupby('time.month').mean('time')).groupby('time.year').mean('time')\n",
    "    sss = (sss.groupby('time.month') - sss.groupby('time.month').mean('time')).groupby('time.year').mean('time')\n",
    "    psl = (psl.groupby('time.month') - psl.groupby('time.month').mean('time')).groupby('time.year').mean('time')\n",
    "    sst_normed = ((sst - sst.mean())/sst.std())['sst'][1980-1870:-2018+2014,0:33,5:46].values.astype(np.float32)\n",
    "    sss_normed = ((sss - sss.mean())/sss.std())['sss'][:-2016+2014,0:33,5:46].values.astype(np.float32)\n",
    "    psl_normed = ((psl - psl.mean())/psl.std())['psl'][1980-1851:,0:33,5:46].values.astype(np.float32)\n",
    "\n",
    "\n",
    "elif season == 'DJF':\n",
    "    sst = (sst.resample(time=\"Q-Nov\").mean())['sst'][4*(1980-1870):-16,0:33,5:46][::4,:,:]\n",
    "    sss = (sss.resample(time=\"Q-Nov\").mean())['sss'][:-4,:,:][::4,0:33,5:46]\n",
    "    psl = (psl.resample(time=\"Q-Nov\").mean())['psl'][4*(1980-1851):,0:33,5:46][::4,:,:]\n",
    "    sst_normed = ((sst - sst.mean())/sst.std()).values.astype(np.float32)\n",
    "    sss_normed = ((sss - sss.mean())/sss.std()).values.astype(np.float32)\n",
    "    psl_normed = ((psl - psl.mean())/psl.std()).values.astype(np.float32)"
   ]
  },
  {
   "cell_type": "code",
   "execution_count": null,
   "metadata": {},
   "outputs": [],
   "source": []
  },
  {
   "cell_type": "code",
   "execution_count": 7,
   "metadata": {},
   "outputs": [],
   "source": [
    "# Load lat/lon\n",
    "lon = np.load(\"../../CESM_data/lon_%s_NAT.npy\"%(resolution))\n",
    "lat = np.load(\"../../CESM_data/lat_%s_NAT.npy\"%(resolution))\n",
    "tstep,nlat,nlon = sst_normed.shape"
   ]
  },
  {
   "cell_type": "code",
   "execution_count": 13,
   "metadata": {},
   "outputs": [],
   "source": [
    "if model_type == 'CNN2':\n",
    "    nchannels     = [32,64]\n",
    "    filtersizes   = [[2,3],[3,3]]\n",
    "    filterstrides = [[1,1],[1,1]]\n",
    "    poolsizes     = [[2,3],[2,3]]\n",
    "    poolstrides   = [[2,3],[2,3]]\n",
    "    firstlineardim = calc_layerdims(nlat,nlon,filtersizes,filterstrides,poolsizes,poolstrides,nchannels)\n",
    "    layers  = [\n",
    "                nn.Conv2d(in_channels=channels, out_channels=nchannels[0], kernel_size=filtersizes[0]),\n",
    "                nn.ReLU(),\n",
    "                nn.MaxPool2d(kernel_size=poolsizes[0]),\n",
    "\n",
    "                nn.Conv2d(in_channels=nchannels[0], out_channels=nchannels[1], kernel_size=filtersizes[1]),\n",
    "                nn.ReLU(),\n",
    "                nn.MaxPool2d(kernel_size=poolsizes[1]),            \n",
    "\n",
    "                nn.Flatten(),\n",
    "                nn.Linear(in_features=firstlineardim,out_features=64),\n",
    "                nn.ReLU(),\n",
    "\n",
    "                #nn.Dropout(p=0.5),\n",
    "                nn.Linear(in_features=64,out_features=1)\n",
    "              ]\n",
    "    \n",
    "elif model_type == 'FNN2':\n",
    "    nlayers = 2\n",
    "    nunits  = [20,20]\n",
    "    activations = [nn.ReLU(),nn.ReLU()]\n",
    "    outsize = 1\n",
    "    inputsize = channels*nlat*nlon\n",
    "    layers = build_FNN_simple(inputsize,outsize,nlayers,nunits,activations,dropout=0)\n",
    "    \n",
    "model = nn.Sequential(*layers)\n",
    "\n"
   ]
  },
  {
   "cell_type": "code",
   "execution_count": 14,
   "metadata": {},
   "outputs": [],
   "source": [
    "path = '../../CESM_data/Models/'+model_dir+'/'\n",
    "\n",
    "\n",
    "leads = np.arange(0,25,1)\n",
    "corrs = []\n",
    "\n",
    "for lead in leads:\n",
    "    y =  calc_AMV_index(indexregion,sst_normed[lead:,:,:],lat,lon) \n",
    "    y = y.reshape(y.shape[0],1)\n",
    "    invars = [sst_normed,sss_normed,psl_normed]\n",
    "    X = np.transpose(\n",
    "                np.array(invars)[:,0:tstep-lead,:,:].reshape(channels,tstep-lead,nlat,nlon),\n",
    "                (1,0,2,3))\n",
    "    X[np.isnan(X)] = 0\n",
    "    if model_type == 'FNN2':\n",
    "        ndat,nchan,nlat,nlon = X.shape\n",
    "        X = X.reshape(ndat,inputsize)\n",
    "        X_train = torch.from_numpy( X[0:int(np.floor(percent_train*(tstep-lead))),:] )\n",
    "       \n",
    "        \n",
    "    elif model_type == 'CNN2':\n",
    "        X_train = torch.from_numpy( X[0:int(np.floor(percent_train*(tstep-lead))),:,:,:] )\n",
    "        \n",
    "\n",
    "    y_train = torch.from_numpy( y[0:int(np.floor(percent_train*(tstep-lead))),:] )\n",
    "     \n",
    "    for fname in os.listdir(path):\n",
    "        if 'lead'+str(lead)+'.pt' in fname and model_type in fname and invar in fname:\n",
    "            model.load_state_dict(torch.load(path+fname))            \n",
    "            model.eval()\n",
    "            y_pred_train = model(X_train)\n",
    "        \n",
    "            corrs.append( np.corrcoef(y_pred_train[:,0].detach().numpy(),y_train[:,0])[0,1] )\n",
    "                "
   ]
  },
  {
   "cell_type": "code",
   "execution_count": 15,
   "metadata": {},
   "outputs": [
    {
     "data": {
      "text/plain": [
       "[<matplotlib.lines.Line2D at 0x7fae3b71cbe0>]"
      ]
     },
     "execution_count": 15,
     "metadata": {},
     "output_type": "execute_result"
    },
    {
     "data": {
      "image/png": "[encoded data removed]",
      "text/plain": [
       "<Figure size 432x288 with 1 Axes>"
      ]
     },
     "metadata": {
      "needs_background": "light"
     },
     "output_type": "display_data"
    }
   ],
   "source": [
    "plt.plot(leads,corrs)"
   ]
  },
  {
   "cell_type": "code",
   "execution_count": 16,
   "metadata": {},
   "outputs": [
    {
     "data": {
      "text/plain": [
       "[0.9242036341871691,\n",
       " 0.4838427907337884,\n",
       " 0.5359931306198419,\n",
       " 0.36325773300204856,\n",
       " 0.4840074631066442,\n",
       " 0.2534905559976867,\n",
       " 0.15294887615143912,\n",
       " 0.12519429822047862,\n",
       " 0.3232638477747666,\n",
       " 0.3870078400006315,\n",
       " 0.15286516486230986,\n",
       " 0.06862485161702457,\n",
       " 0.09764529438151086,\n",
       " 0.19629523478774175,\n",
       " -0.11230780032546356,\n",
       " 0.2826143869342758,\n",
       " -0.12849194981901588,\n",
       " 0.09576816822808557,\n",
       " -0.017680535332821285,\n",
       " 0.24211604578100931,\n",
       " 0.06969603893460699,\n",
       " 0.12260752117276191,\n",
       " -0.13037166081300358,\n",
       " 0.04243552257379287,\n",
       " 0.26403530225307686]"
      ]
     },
     "execution_count": 16,
     "metadata": {},
     "output_type": "execute_result"
    }
   ],
   "source": [
    "corrs"
   ]
  },
  {
   "cell_type": "code",
   "execution_count": null,
   "metadata": {},
   "outputs": [],
   "source": []
  },
  {
   "cell_type": "code",
   "execution_count": null,
   "metadata": {},
   "outputs": [],
   "source": []
  },
  {
   "cell_type": "code",
   "execution_count": null,
   "metadata": {},
   "outputs": [],
   "source": []
  },
  {
   "cell_type": "code",
   "execution_count": null,
   "metadata": {},
   "outputs": [],
   "source": []
  },
  {
   "cell_type": "code",
   "execution_count": null,
   "metadata": {},
   "outputs": [],
   "source": []
  },
  {
   "cell_type": "code",
   "execution_count": null,
   "metadata": {},
   "outputs": [],
   "source": []
  },
  {
   "cell_type": "code",
   "execution_count": null,
   "metadata": {},
   "outputs": [],
   "source": []
  },
  {
   "cell_type": "code",
   "execution_count": null,
   "metadata": {},
   "outputs": [],
   "source": []
  }
 ],
 "metadata": {
  "kernelspec": {
   "display_name": "Python 3",
   "language": "python",
   "name": "python3"
  },
  "language_info": {
   "codemirror_mode": {
    "name": "ipython",
    "version": 3
   },
   "file_extension": ".py",
   "mimetype": "text/x-python",
   "name": "python",
   "nbconvert_exporter": "python",
   "pygments_lexer": "ipython3",
   "version": "3.8.6"
  }
 },
 "nbformat": 4,
 "nbformat_minor": 4
}
