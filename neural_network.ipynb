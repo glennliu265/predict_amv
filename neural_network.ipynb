{
 "cells": [
  {
   "cell_type": "code",
   "execution_count": 1,
   "metadata": {},
   "outputs": [],
   "source": [
    "import numpy as np\n",
    "import math as m\n",
    "import matplotlib.pyplot as plt\n",
    "import pandas as pd\n",
    "import scipy\n",
    "import random\n",
    "from tqdm import tqdm\n",
    "\n",
    "import torch\n",
    "from torch import nn\n",
    "import torch.optim as optim\n",
    "from torch.utils.data import DataLoader, TensorDataset"
   ]
  },
  {
   "cell_type": "markdown",
   "metadata": {},
   "source": [
    "# Prepare data"
   ]
  },
  {
   "cell_type": "code",
   "execution_count": 2,
   "metadata": {},
   "outputs": [],
   "source": [
    "# rolling mean at 1 month means no rolling mean\n",
    "rolling_months = 1\n",
    "\n",
    "# change AMV lead months\n",
    "lead = 12\n",
    "\n",
    "# if shuffle data\n",
    "shuffle = True\n",
    "\n",
    "# if set seed for random \n",
    "deterministic = True\n",
    "\n",
    "# normalization method\n",
    "norm = \"std\""
   ]
  },
  {
   "cell_type": "code",
   "execution_count": 3,
   "metadata": {},
   "outputs": [],
   "source": [
    "# read in data\n",
    "amoc_full = np.load('Data/CESM1LE_AMOCIndex_1920-2005_region20to30_componentall_detrend0.npy')\n",
    "nao_full = np.load('Data/CESM1LE_NAOIndex_1920-2005_detrend0.npy')[:,:,0]\n",
    "amv_full = np.load('Data/CESM1LE_AMVIndex_1920-2005_detrend0_filter0.npy')\n",
    "\n",
    "# perform rolling mean\n",
    "amoc_rolling = pd.DataFrame(data=amoc_full.T).rolling(rolling_months).mean().values.T\n",
    "nao_rolling = pd.DataFrame(data=nao_full.T).rolling(rolling_months).mean().values.T\n",
    "amv_rolling = pd.DataFrame(data=amv_full.T).rolling(rolling_months).mean().values.T\n",
    "\n",
    "# calculate mean and std for normalization\n",
    "amoc_mean = np.nanmean(amoc_rolling,axis=1)\n",
    "amoc_std = np.nanstd(amoc_rolling,axis=1)\n",
    "amoc_min = np.nanmin(amoc_rolling,axis=1)\n",
    "amoc_max = np.nanmax(amoc_rolling,axis=1)\n",
    "\n",
    "nao_mean = np.nanmean(nao_rolling,axis=1)\n",
    "nao_std = np.nanstd(nao_rolling,axis=1)\n",
    "nao_min = np.nanmin(nao_rolling,axis=1)\n",
    "nao_max = np.nanmax(nao_rolling,axis=1)\n",
    "\n",
    "\n",
    "amv_mean = np.nanmean(amv_rolling,axis=1)\n",
    "amv_std = np.nanstd(amv_rolling,axis=1)\n",
    "amv_min = np.nanmin(amv_rolling,axis=1)\n",
    "amv_max = np.nanmax(amv_rolling,axis=1)\n",
    "\n",
    "# loop through time to normalize data\n",
    "amoc = np.zeros((42,1032))\n",
    "nao = np.zeros((42,1032))\n",
    "amv = np.zeros((42,1032))\n",
    "\n",
    "if norm == \"zero_one\":\n",
    "    for it in range(1032):\n",
    "        amoc[:,it] = (amoc_rolling[:,it]-amoc_min)/(amoc_max-amoc_min)\n",
    "        nao[:,it] = (nao_rolling[:,it]-nao_min)/(nao_max-nao_min)\n",
    "        amv[:,it] = (amv_rolling[:,it]-amv_min)/(amv_max-amv_min)\n",
    "elif norm == \"std\":\n",
    "    for it in range(1032):\n",
    "        amoc[:,it] = (amoc_rolling[:,it]-amoc_mean)/amoc_std\n",
    "        nao[:,it] = (nao_rolling[:,it]-nao_mean)/nao_std\n",
    "        amv[:,it] = (amv_rolling[:,it]-amv_mean)/amv_std\n",
    "\n",
    "# got data that are not nan, which is introduced from rolling mean\n",
    "amoc = amoc[:,rolling_months-1:]\n",
    "nao = nao[:,rolling_months-1:]\n",
    "amv = amv[:,rolling_months-1:]\n",
    "tstep = amoc.shape[1]"
   ]
  },
  {
   "cell_type": "code",
   "execution_count": null,
   "metadata": {},
   "outputs": [],
   "source": []
  },
  {
   "cell_type": "code",
   "execution_count": 4,
   "metadata": {},
   "outputs": [],
   "source": [
    "amoc_flattern = amoc[:,0:tstep-lead].reshape(42*(tstep-lead)).astype(np.float32)\n",
    "nao_flattern = nao[:,0:tstep-lead].reshape(42*(tstep-lead)).astype(np.float32)\n",
    "amv_flattern = amv[:,lead:].reshape(42*(tstep-lead),1).astype(np.float32)"
   ]
  },
  {
   "cell_type": "code",
   "execution_count": 5,
   "metadata": {},
   "outputs": [],
   "source": [
    "shuffled_ind = np.arange(0,42*(tstep-lead),1)\n",
    "if shuffle:\n",
    "    if deterministic:\n",
    "        np.random.seed(123)\n",
    "        np.random.shuffle(shuffled_ind)\n",
    "    else:\n",
    "        np.random.shuffle(shuffled_ind)\n",
    "        \n",
    "data = (np.array((amoc_flattern[shuffled_ind],nao_flattern[shuffled_ind])).T, amv_flattern[shuffled_ind])"
   ]
  },
  {
   "cell_type": "code",
   "execution_count": 6,
   "metadata": {},
   "outputs": [],
   "source": [
    "# how much data used as training, the rest will be used as validation\n",
    "percent_train = 0.8\n",
    "\n",
    "X_train = torch.from_numpy( data[0][0:int(percent_train*tstep*42),:] )\n",
    "y_train = torch.from_numpy( data[1][0:int(percent_train*tstep*42),:] )\n",
    "\n",
    "X_val = torch.from_numpy( data[0][int(percent_train*tstep*42):,:] )\n",
    "y_val = torch.from_numpy( data[1][int(percent_train*tstep*42):,:] )"
   ]
  },
  {
   "cell_type": "markdown",
   "metadata": {},
   "source": [
    "# Train ML"
   ]
  },
  {
   "cell_type": "code",
   "execution_count": 7,
   "metadata": {},
   "outputs": [],
   "source": [
    "model = nn.Sequential(nn.Linear(2,400),nn.ReLU(),\n",
    "                      nn.Dropout(p=0.5),\n",
    "                      nn.Linear(400,500),nn.ReLU(),\n",
    "                      nn.Linear(500,100),nn.ReLU(),\n",
    "                      nn.Linear(100,1))\n",
    "\n",
    "opt = torch.optim.SGD(model.parameters(), lr = 0.005)\n",
    "loss_fn = nn.L1Loss()"
   ]
  },
  {
   "cell_type": "code",
   "execution_count": 14,
   "metadata": {},
   "outputs": [
    {
     "name": "stdout",
     "output_type": "stream",
     "text": [
      "Test loss before training 0.7902047634124756\n"
     ]
    },
    {
     "data": {
      "text/plain": [
       "Text(0, 0.5, 'true')"
      ]
     },
     "execution_count": 14,
     "metadata": {},
     "output_type": "execute_result"
    },
    {
     "data": {
      "image/png": "[encoded data removed]",
      "text/plain": [
       "<Figure size 432x288 with 1 Axes>"
      ]
     },
     "metadata": {
      "needs_background": "light"
     },
     "output_type": "display_data"
    }
   ],
   "source": [
    "y_pred = model(X_train)\n",
    "before_train = loss_fn(y_pred, y_train)\n",
    "print('Test loss before training' , before_train.item())\n",
    "\n",
    "plt.plot( model(X_train).detach().numpy(),y_train.numpy(),'.')\n",
    "plt.plot([-1,1],[-1,1])\n",
    "plt.title('validating set')\n",
    "plt.xlabel('predicted')\n",
    "plt.ylabel('true')"
   ]
  },
  {
   "cell_type": "code",
   "execution_count": 9,
   "metadata": {},
   "outputs": [
    {
     "name": "stderr",
     "output_type": "stream",
     "text": [
      "100%|██████████| 100/100 [00:27<00:00,  3.64it/s]\n"
     ]
    }
   ],
   "source": [
    "epoch = 100\n",
    "\n",
    "epo_losses = []\n",
    "\n",
    "model.train()\n",
    "\n",
    "for i in tqdm(range(epoch)):\n",
    "    # Forward pass\n",
    "    y_pred = model(X_train)\n",
    "    \n",
    "    # Compute Loss\n",
    "    loss = loss_fn(y_pred, y_train)\n",
    "    epo_losses.append(loss.item())\n",
    "    \n",
    "    # update\n",
    "    opt.zero_grad()\n",
    "    loss.backward()\n",
    "    opt.step()"
   ]
  },
  {
   "cell_type": "code",
   "execution_count": 10,
   "metadata": {},
   "outputs": [
    {
     "data": {
      "text/plain": [
       "Text(0, 0.5, 'loss')"
      ]
     },
     "execution_count": 10,
     "metadata": {},
     "output_type": "execute_result"
    },
    {
     "data": {
      "image/png": "[encoded data removed]",
      "text/plain": [
       "<Figure size 432x288 with 1 Axes>"
      ]
     },
     "metadata": {
      "needs_background": "light"
     },
     "output_type": "display_data"
    }
   ],
   "source": [
    "plt.plot(epo_losses)\n",
    "plt.xlabel('epoch')\n",
    "plt.ylabel('loss')"
   ]
  },
  {
   "cell_type": "code",
   "execution_count": 11,
   "metadata": {},
   "outputs": [
    {
     "name": "stdout",
     "output_type": "stream",
     "text": [
      "Test loss after Training 0.7856815457344055\n"
     ]
    }
   ],
   "source": [
    "model.eval()\n",
    "y_pred = model(X_val)\n",
    "after_train = loss_fn(y_pred, y_val) \n",
    "print('Test loss after Training' , after_train.item())"
   ]
  },
  {
   "cell_type": "code",
   "execution_count": 13,
   "metadata": {},
   "outputs": [
    {
     "data": {
      "image/png": "[encoded data removed]",
      "text/plain": [
       "<Figure size 576x288 with 2 Axes>"
      ]
     },
     "metadata": {
      "needs_background": "light"
     },
     "output_type": "display_data"
    }
   ],
   "source": [
    "plt.figure(figsize=(8,4))\n",
    "plt.rcParams.update({'font.size': 12})\n",
    "\n",
    "plt.subplot(121)\n",
    "plt.plot( model(X_train).detach().numpy(),y_train.numpy(),'.')\n",
    "plt.plot([-1,1],[-1,1])\n",
    "plt.title('training set')\n",
    "plt.xlabel('predicted')\n",
    "plt.ylabel('true')\n",
    "\n",
    "plt.subplot(122)\n",
    "plt.plot( model(X_val).detach().numpy(),y_val.numpy(),'.')\n",
    "plt.plot([-1,1],[-1,1])\n",
    "plt.title('validating set')\n",
    "plt.xlabel('predicted')\n",
    "plt.ylabel('true')\n",
    "\n",
    "plt.tight_layout()\n",
    "plt.show()"
   ]
  },
  {
   "cell_type": "code",
   "execution_count": null,
   "metadata": {},
   "outputs": [],
   "source": []
  },
  {
   "cell_type": "code",
   "execution_count": null,
   "metadata": {},
   "outputs": [],
   "source": []
  }
 ],
 "metadata": {
  "kernelspec": {
   "display_name": "Python 3",
   "language": "python",
   "name": "python3"
  },
  "language_info": {
   "codemirror_mode": {
    "name": "ipython",
    "version": 3
   },
   "file_extension": ".py",
   "mimetype": "text/x-python",
   "name": "python",
   "nbconvert_exporter": "python",
   "pygments_lexer": "ipython3",
   "version": "3.8.6"
  }
 },
 "nbformat": 4,
 "nbformat_minor": 4
}
