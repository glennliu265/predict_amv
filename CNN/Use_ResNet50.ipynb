{
 "cells": [
  {
   "cell_type": "code",
   "execution_count": 1,
   "metadata": {},
   "outputs": [],
   "source": [
    "import numpy as np\n",
    "import matplotlib.pyplot as plt\n",
    "import pandas as pd\n",
    "import scipy\n",
    "\n",
    "from tqdm import tqdm\n",
    "\n",
    "import torch\n",
    "from torch import nn\n",
    "import torch.optim as optim\n",
    "from torch.utils.data import DataLoader, TensorDataset\n",
    "import torchvision.models as models\n",
    "from torchvision import datasets, transforms as T"
   ]
  },
  {
   "cell_type": "code",
   "execution_count": 2,
   "metadata": {},
   "outputs": [],
   "source": [
    "resnet50 = models.resnet50(pretrained=True)"
   ]
  },
  {
   "cell_type": "code",
   "execution_count": 3,
   "metadata": {},
   "outputs": [],
   "source": [
    "sst_normed = np.load('../../CESM_data/CESM_SST_normalized_lat_weighted.npy').astype(np.float32)\n",
    "sss_normed = np.load('../../CESM_data/CESM_SSS_normalized_lat_weighted.npy').astype(np.float32)"
   ]
  },
  {
   "cell_type": "code",
   "execution_count": 7,
   "metadata": {},
   "outputs": [],
   "source": [
    "lead = 12\n",
    "\n",
    "tstep = 1032\n",
    "max_epochs = 5\n",
    "batch_size = 32\n",
    "channels = 2"
   ]
  },
  {
   "cell_type": "code",
   "execution_count": 8,
   "metadata": {},
   "outputs": [],
   "source": [
    "y = np.mean(sst_normed[:,lead:,:,:],axis=(2,3)).reshape((tstep-lead)*42,1)  \n",
    "X = np.transpose(\n",
    "    np.array([sst_normed,sss_normed])[:,:,0:tstep-lead,:,:].reshape(channels,(tstep-lead)*42,33,89),\n",
    "    (1,0,2,3))"
   ]
  },
  {
   "cell_type": "code",
   "execution_count": 9,
   "metadata": {},
   "outputs": [],
   "source": [
    "percent_train = 0.8\n",
    "\n",
    "X_train = torch.from_numpy( X[0:int(np.floor(percent_train*(tstep-lead)*1)),:,:,:].astype(np.float32) )\n",
    "y_train = torch.from_numpy( y[0:int(np.floor(percent_train*(tstep-lead)*1)),:].astype(np.float32) )\n",
    "\n",
    "X_val = torch.from_numpy( X[int(np.floor(percent_train*(tstep-lead)*1)):,:,:,:].astype(np.float32) )\n",
    "y_val = torch.from_numpy( y[int(np.floor(percent_train*(tstep-lead)*1)):,:].astype(np.float32) )"
   ]
  },
  {
   "cell_type": "code",
   "execution_count": 11,
   "metadata": {},
   "outputs": [],
   "source": [
    "train_loader = DataLoader(TensorDataset(X_train, y_train), batch_size=batch_size, shuffle = True)\n",
    "val_loader = DataLoader(TensorDataset(X_val, y_val), batch_size=batch_size, shuffle = True)"
   ]
  },
  {
   "cell_type": "code",
   "execution_count": 12,
   "metadata": {},
   "outputs": [],
   "source": [
    "model = nn.Sequential(nn.Conv2d(in_channels=channels, out_channels=3, kernel_size=(1,1),padding=(95,67)),\n",
    "                      resnet50,\n",
    "                      nn.Linear(in_features=1000,out_features=1))\n",
    "opt = torch.optim.Adam(model.parameters())\n",
    "#opt = torch.optim.Adadelta(model.parameters())\n",
    "loss_fn = nn.MSELoss()"
   ]
  },
  {
   "cell_type": "code",
   "execution_count": null,
   "metadata": {},
   "outputs": [],
   "source": [
    "epo_train_losses = [loss_fn(model(X_train),y_train)]\n",
    "epo_val_losses = [loss_fn(model(X_val),y_val)]\n",
    "\n",
    "for iepoch in tqdm(range(max_epochs)):\n",
    "    \n",
    "    batch_train_losses = []\n",
    "    model.train()\n",
    "    for x_batch, y_batch in train_loader:\n",
    "        y_pred = model(x_batch)\n",
    "        loss = loss_fn(y_pred.squeeze(), y_batch.squeeze())\n",
    "        batch_train_losses.append(loss.item())\n",
    "        loss.backward()\n",
    "        opt.step()\n",
    "        opt.zero_grad()\n",
    "    epo_train_losses.append( sum(batch_train_losses)/len(batch_train_losses) )\n",
    "\n",
    "    batch_val_losses = []\n",
    "    with torch.set_grad_enabled(False):\n",
    "        for x_batch_val, y_batch_val in val_loader:\n",
    "            y_pred = model(x_batch_val)\n",
    "            loss = loss_fn(y_pred.squeeze(), y_batch_val.squeeze())\n",
    "            batch_val_losses.append(loss.item())\n",
    "        epo_val_losses.append( sum(batch_val_losses)/len(batch_val_losses) )"
   ]
  },
  {
   "cell_type": "code",
   "execution_count": null,
   "metadata": {},
   "outputs": [],
   "source": []
  },
  {
   "cell_type": "code",
   "execution_count": null,
   "metadata": {},
   "outputs": [],
   "source": []
  },
  {
   "cell_type": "code",
   "execution_count": null,
   "metadata": {},
   "outputs": [],
   "source": []
  },
  {
   "cell_type": "code",
   "execution_count": null,
   "metadata": {},
   "outputs": [],
   "source": []
  },
  {
   "cell_type": "code",
   "execution_count": null,
   "metadata": {},
   "outputs": [],
   "source": []
  },
  {
   "cell_type": "code",
   "execution_count": null,
   "metadata": {},
   "outputs": [],
   "source": []
  }
 ],
 "metadata": {
  "kernelspec": {
   "display_name": "Python 3",
   "language": "python",
   "name": "python3"
  },
  "language_info": {
   "codemirror_mode": {
    "name": "ipython",
    "version": 3
   },
   "file_extension": ".py",
   "mimetype": "text/x-python",
   "name": "python",
   "nbconvert_exporter": "python",
   "pygments_lexer": "ipython3",
   "version": "3.8.6"
  }
 },
 "nbformat": 4,
 "nbformat_minor": 4
}
