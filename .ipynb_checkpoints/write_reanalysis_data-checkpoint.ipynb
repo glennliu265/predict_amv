{
 "cells": [
  {
   "cell_type": "code",
   "execution_count": 48,
   "metadata": {},
   "outputs": [],
   "source": [
    "import numpy as np\n",
    "import matplotlib.pyplot as plt\n",
    "import pandas as pd\n",
    "import scipy\n",
    "import xarray as xr\n",
    "\n",
    "from tqdm import tqdm\n",
    "\n",
    "import os\n",
    "import torch\n",
    "from torch import nn\n",
    "import torch.optim as optim\n",
    "from torch.utils.data import DataLoader, TensorDataset"
   ]
  },
  {
   "cell_type": "code",
   "execution_count": 28,
   "metadata": {},
   "outputs": [],
   "source": [
    "ds_sst = xr.open_dataset(\"../reanalysis_data/hadisst.1870-01-01_2018-12-01.nc\")\n",
    "ds_sss = xr.open_dataset(\"../reanalysis_data/salt.1980.nc\")"
   ]
  },
  {
   "cell_type": "code",
   "execution_count": 47,
   "metadata": {},
   "outputs": [],
   "source": [
    "NAtl_sst = ds_sst['sst'][:,110:141,89:201]"
   ]
  },
  {
   "cell_type": "code",
   "execution_count": 88,
   "metadata": {},
   "outputs": [
    {
     "name": "stderr",
     "output_type": "stream",
     "text": [
      "100%|██████████| 40/40 [02:07<00:00,  3.19s/it]\n"
     ]
    }
   ],
   "source": [
    "ds_sss = np.zeros((40,12,91,112))\n",
    "\n",
    "iyr = 0\n",
    "for filename in tqdm(os.listdir('../reanalysis_data/salt_raw')):\n",
    "    ds_f = xr.open_dataset(\"../reanalysis_data/salt_raw/\"+filename)\n",
    "    ds_f.coords['lon'] = (ds_f.coords['lon'] + 180) % 360 - 180\n",
    "    ds_f = ds_f.sortby(ds_f.lon)\n",
    "    \n",
    "    ds_sss[iyr,:,:,:] = (1000*ds_f['salt'][:,0,284:375,89:201])\n",
    "    \n",
    "    iyr += 1"
   ]
  },
  {
   "cell_type": "code",
   "execution_count": 91,
   "metadata": {},
   "outputs": [],
   "source": [
    "ds_sss_monthly = ds_sss.reshape(40*12,91,112)"
   ]
  },
  {
   "cell_type": "code",
   "execution_count": 93,
   "metadata": {},
   "outputs": [
    {
     "data": {
      "text/plain": [
       "(480, 91, 112)"
      ]
     },
     "execution_count": 93,
     "metadata": {},
     "output_type": "execute_result"
    }
   ],
   "source": [
    "ds_sss_monthly.shape"
   ]
  },
  {
   "cell_type": "code",
   "execution_count": null,
   "metadata": {},
   "outputs": [],
   "source": []
  },
  {
   "cell_type": "code",
   "execution_count": 95,
   "metadata": {},
   "outputs": [
    {
     "data": {
      "text/plain": [
       "DatetimeIndex(['1980-01-31', '1980-02-29', '1980-03-31', '1980-04-30',\n",
       "               '1980-05-31', '1980-06-30', '1980-07-31', '1980-08-31',\n",
       "               '1980-09-30', '1980-10-31',\n",
       "               ...\n",
       "               '2019-03-31', '2019-04-30', '2019-05-31', '2019-06-30',\n",
       "               '2019-07-31', '2019-08-31', '2019-09-30', '2019-10-31',\n",
       "               '2019-11-30', '2019-12-31'],\n",
       "              dtype='datetime64[ns]', length=480, freq='M')"
      ]
     },
     "execution_count": 95,
     "metadata": {},
     "output_type": "execute_result"
    }
   ],
   "source": []
  },
  {
   "cell_type": "code",
   "execution_count": 100,
   "metadata": {},
   "outputs": [],
   "source": [
    "NAtl_sss = xr.DataArray(ds_sss_monthly, coords=[pd.date_range(\"1980-01-01\", '2019-12-31',freq='M'),\n",
    "                                     ds_f['salt'][:,0,284:375,89:201].lat, \n",
    "                                     ds_f['salt'][:,0,284:375,89:201].lon], dims=[\"time\",\"lat\", \"lon\"])\n",
    "\n"
   ]
  },
  {
   "cell_type": "code",
   "execution_count": 116,
   "metadata": {},
   "outputs": [],
   "source": [
    "NAtl_sss.to_netcdf('../reanalysis_data/NAtl_sss.nc')"
   ]
  },
  {
   "cell_type": "code",
   "execution_count": 115,
   "metadata": {},
   "outputs": [],
   "source": [
    "NAtl_sst.to_netcdf('../reanalysis_data/NAtl_sst.nc')"
   ]
  },
  {
   "cell_type": "code",
   "execution_count": null,
   "metadata": {},
   "outputs": [],
   "source": []
  },
  {
   "cell_type": "code",
   "execution_count": null,
   "metadata": {},
   "outputs": [],
   "source": []
  }
 ],
 "metadata": {
  "kernelspec": {
   "display_name": "Python 3",
   "language": "python",
   "name": "python3"
  },
  "language_info": {
   "codemirror_mode": {
    "name": "ipython",
    "version": 3
   },
   "file_extension": ".py",
   "mimetype": "text/x-python",
   "name": "python",
   "nbconvert_exporter": "python",
   "pygments_lexer": "ipython3",
   "version": "3.8.6"
  }
 },
 "nbformat": 4,
 "nbformat_minor": 4
}
