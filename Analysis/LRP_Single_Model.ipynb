{
 "cells": [
  {
   "cell_type": "markdown",
   "id": "7380727d-4cfd-421f-bde0-ceab0c05c359",
   "metadata": {},
   "source": [
    "# Perform LRP for a single model\n",
    "\n",
    "Takes code from LRP_Test"
   ]
  },
  {
   "cell_type": "code",
   "execution_count": 1,
   "id": "402fce14-dd7c-4788-9db0-87d8c2115733",
   "metadata": {},
   "outputs": [],
   "source": [
    "import numpy as np\n",
    "import sys\n",
    "import glob\n",
    "import importlib\n",
    "\n",
    "import torch\n",
    "from torch import nn\n",
    "\n",
    "import matplotlib.pyplot as plt\n",
    "import cartopy.crs as ccrs\n",
    "\n",
    "from tqdm import tqdm_notebook as tqdm"
   ]
  },
  {
   "cell_type": "code",
   "execution_count": null,
   "id": "5d200787-e172-48a1-8c56-789211c4b1ad",
   "metadata": {},
   "outputs": [],
   "source": []
  }
 ],
 "metadata": {
  "kernelspec": {
   "display_name": "amvlearn",
   "language": "python",
   "name": "amvlearn"
  },
  "language_info": {
   "codemirror_mode": {
    "name": "ipython",
    "version": 3
   },
   "file_extension": ".py",
   "mimetype": "text/x-python",
   "name": "python",
   "nbconvert_exporter": "python",
   "pygments_lexer": "ipython3",
   "version": "3.10.8"
  }
 },
 "nbformat": 4,
 "nbformat_minor": 5
}
