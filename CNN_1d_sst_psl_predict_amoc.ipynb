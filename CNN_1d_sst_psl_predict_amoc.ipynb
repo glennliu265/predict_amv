{
 "cells": [
  {
   "cell_type": "code",
   "execution_count": 37,
   "metadata": {},
   "outputs": [],
   "source": [
    "import numpy as np\n",
    "import matplotlib.pyplot as plt\n",
    "import pandas as pd\n",
    "import xarray as xr\n",
    "import scipy\n",
    "\n",
    "from tqdm import tqdm\n",
    "\n",
    "import torch\n",
    "from torch import nn\n",
    "import torch.optim as optim\n",
    "from torch.utils.data import DataLoader, TensorDataset"
   ]
  },
  {
   "cell_type": "markdown",
   "metadata": {},
   "source": [
    "# read in 2D lat lon data, take zonal mean for SST PSL"
   ]
  },
  {
   "cell_type": "code",
   "execution_count": 38,
   "metadata": {},
   "outputs": [],
   "source": [
    "ds_psl = xr.open_dataset(\"../CESM_data/CESM1LE_psl_NAtl_19200101_20051201.nc\")\n",
    "ds_moc = xr.open_dataset(\"../CESM_data/CESM1LE_MOC_NAtl_20N-50N_19200101_20051201.nc\")\n",
    "ds_sst = xr.open_dataset(\"../CESM_data/CESM1LE_sst_NAtl_19200101_20051201.nc\")"
   ]
  },
  {
   "cell_type": "code",
   "execution_count": 3,
   "metadata": {},
   "outputs": [],
   "source": [
    "psl = ds_psl['psl'][21:54,0:89,:,:].mean(dim=('lon'))"
   ]
  },
  {
   "cell_type": "code",
   "execution_count": 4,
   "metadata": {},
   "outputs": [],
   "source": [
    "psl_normalized = (psl - psl.mean(dim=('lat','time')))/psl.std(dim=('lat','time'))"
   ]
  },
  {
   "cell_type": "code",
   "execution_count": 5,
   "metadata": {},
   "outputs": [],
   "source": [
    "sst = ds_sst['sst'][21:54,:,:,:].mean(dim=('lon'))"
   ]
  },
  {
   "cell_type": "code",
   "execution_count": 6,
   "metadata": {},
   "outputs": [],
   "source": [
    "sst_normalized = (sst - sst.mean(dim=('lat','time')))/sst.std(dim=('lat','time'))"
   ]
  },
  {
   "cell_type": "code",
   "execution_count": 7,
   "metadata": {},
   "outputs": [],
   "source": [
    "amoc = ds_moc['MOC'].sum(dim='moc_comp').max(dim=('moc_z','lat_aux_grid'))\n",
    "amoc = amoc - amoc.mean(dim='ensemble')"
   ]
  },
  {
   "cell_type": "code",
   "execution_count": 8,
   "metadata": {},
   "outputs": [],
   "source": [
    "amoc_normalized = (amoc - amoc.mean(dim='time'))/amoc.std(dim='time') "
   ]
  },
  {
   "cell_type": "code",
   "execution_count": 9,
   "metadata": {},
   "outputs": [],
   "source": [
    "sst_flattern = sst_normalized.values.reshape(33,1032*42).astype(np.float32)\n",
    "psl_flattern = psl_normalized.values.reshape(33,1032*42).astype(np.float32)\n",
    "amoc_flattern = amoc_normalized.values.reshape(1032*42).astype(np.float32)"
   ]
  },
  {
   "cell_type": "code",
   "execution_count": 10,
   "metadata": {},
   "outputs": [],
   "source": [
    "data = ( np.array((sst_flattern,psl_flattern)).T.reshape(1032*42,2,33) , amoc_flattern)"
   ]
  },
  {
   "cell_type": "code",
   "execution_count": 25,
   "metadata": {},
   "outputs": [],
   "source": [
    "percent_train = 0.8\n",
    "\n",
    "X_train = torch.from_numpy( data[0][0:int(percent_train*1032*42),:,:] )\n",
    "y_train = torch.from_numpy( data[1][0:int(percent_train*1032*42):] )\n",
    "\n",
    "X_val = torch.from_numpy( data[0][int(percent_train*1032*42):,:,:] )\n",
    "y_val = torch.from_numpy( data[1][int(percent_train*1032*42):] )"
   ]
  },
  {
   "cell_type": "code",
   "execution_count": 26,
   "metadata": {},
   "outputs": [
    {
     "data": {
      "text/plain": [
       "torch.Size([34675, 2, 33])"
      ]
     },
     "execution_count": 26,
     "metadata": {},
     "output_type": "execute_result"
    }
   ],
   "source": [
    "X_train.shape"
   ]
  },
  {
   "cell_type": "code",
   "execution_count": null,
   "metadata": {},
   "outputs": [],
   "source": []
  },
  {
   "cell_type": "markdown",
   "metadata": {},
   "source": [
    "# train 1D CNN ML"
   ]
  },
  {
   "cell_type": "code",
   "execution_count": 27,
   "metadata": {},
   "outputs": [],
   "source": [
    "model = nn.Sequential(nn.Conv1d(in_channels=2, out_channels=32, kernel_size=5),\n",
    "          nn.ReLU(),\n",
    "          nn.MaxPool1d(kernel_size=2),\n",
    "          nn.Conv1d(in_channels=32,out_channels=64,kernel_size=5),\n",
    "          nn.ReLU(),\n",
    "          nn.MaxPool1d(kernel_size=2),\n",
    "          nn.Flatten(),\n",
    "          nn.Linear(in_features=5*64,out_features=128),\n",
    "          nn.ReLU(),\n",
    "          nn.Dropout(p=0.5),\n",
    "          nn.Linear(in_features=128,out_features=1))\n",
    "\n",
    "opt = torch.optim.SGD(model.parameters(), lr = 0.005)\n",
    "loss_fn = nn.MSELoss()"
   ]
  },
  {
   "cell_type": "code",
   "execution_count": 28,
   "metadata": {},
   "outputs": [
    {
     "name": "stdout",
     "output_type": "stream",
     "text": [
      "Test loss before training 1.0127156972885132\n"
     ]
    },
    {
     "data": {
      "text/plain": [
       "[<matplotlib.lines.Line2D at 0x7f871aa112e0>]"
      ]
     },
     "execution_count": 28,
     "metadata": {},
     "output_type": "execute_result"
    },
    {
     "data": {
      "image/png": "[encoded data removed]",
      "text/plain": [
       "<Figure size 432x288 with 1 Axes>"
      ]
     },
     "metadata": {
      "needs_background": "light"
     },
     "output_type": "display_data"
    }
   ],
   "source": [
    "y_pred = model(X_train)\n",
    "before_train = loss_fn(y_pred.squeeze(), y_train.squeeze())\n",
    "print('Test loss before training' , before_train.item())\n",
    "plt.plot(y_pred.detach().numpy(),y_train.numpy(),'.')"
   ]
  },
  {
   "cell_type": "code",
   "execution_count": 29,
   "metadata": {},
   "outputs": [
    {
     "name": "stderr",
     "output_type": "stream",
     "text": [
      "100%|██████████| 100/100 [01:46<00:00,  1.07s/it]\n"
     ]
    }
   ],
   "source": [
    "epoch = 100\n",
    "\n",
    "epo_losses = []\n",
    "\n",
    "model.train()\n",
    "\n",
    "for i in tqdm(range(epoch)):\n",
    "    # Forward pass\n",
    "    y_pred = model(X_train)\n",
    "    \n",
    "    # Compute Loss\n",
    "    loss = loss_fn(y_pred.squeeze(), y_train.squeeze())\n",
    "    epo_losses.append(loss.item())\n",
    "    \n",
    "    # update\n",
    "    opt.zero_grad()\n",
    "    loss.backward()\n",
    "    opt.step()"
   ]
  },
  {
   "cell_type": "code",
   "execution_count": 30,
   "metadata": {},
   "outputs": [
    {
     "data": {
      "text/plain": [
       "Text(0, 0.5, 'loss')"
      ]
     },
     "execution_count": 30,
     "metadata": {},
     "output_type": "execute_result"
    },
    {
     "data": {
      "image/png": "[encoded data removed]",
      "text/plain": [
       "<Figure size 432x288 with 1 Axes>"
      ]
     },
     "metadata": {
      "needs_background": "light"
     },
     "output_type": "display_data"
    }
   ],
   "source": [
    "plt.plot(epo_losses)\n",
    "plt.xlabel('epoch')\n",
    "plt.ylabel('loss')"
   ]
  },
  {
   "cell_type": "code",
   "execution_count": 31,
   "metadata": {},
   "outputs": [
    {
     "name": "stderr",
     "output_type": "stream",
     "text": [
      "/Users/peterw/miniconda3/envs/ml_env/lib/python3.8/site-packages/torch/nn/modules/loss.py:445: UserWarning: Using a target size (torch.Size([34675])) that is different to the input size (torch.Size([34675, 1])). This will likely lead to incorrect results due to broadcasting. Please ensure they have the same size.\n",
      "  return F.mse_loss(input, target, reduction=self.reduction)\n"
     ]
    },
    {
     "name": "stdout",
     "output_type": "stream",
     "text": [
      "Test loss after Training 0.9144600629806519\n"
     ]
    }
   ],
   "source": [
    "model.eval()\n",
    "y_pred = model(X_train)\n",
    "after_train = loss_fn(y_pred, y_train) \n",
    "print('Test loss after Training' , after_train.item())"
   ]
  },
  {
   "cell_type": "code",
   "execution_count": 33,
   "metadata": {},
   "outputs": [
    {
     "name": "stdout",
     "output_type": "stream",
     "text": [
      "Test loss after training 0.9844123721122742\n"
     ]
    },
    {
     "data": {
      "text/plain": [
       "[<matplotlib.lines.Line2D at 0x7f87484afa90>]"
      ]
     },
     "execution_count": 33,
     "metadata": {},
     "output_type": "execute_result"
    },
    {
     "data": {
      "image/png": "[encoded data removed]",
      "text/plain": [
       "<Figure size 432x288 with 1 Axes>"
      ]
     },
     "metadata": {
      "needs_background": "light"
     },
     "output_type": "display_data"
    }
   ],
   "source": [
    "y_pred = model(X_val)\n",
    "after_train = loss_fn(y_pred.squeeze(), y_val.squeeze())\n",
    "print('Test loss after training' , after_train.item())\n",
    "plt.plot(y_pred.detach().numpy(),y_val.numpy(),'.')"
   ]
  },
  {
   "cell_type": "code",
   "execution_count": null,
   "metadata": {},
   "outputs": [],
   "source": []
  }
 ],
 "metadata": {
  "kernelspec": {
   "display_name": "Python 3",
   "language": "python",
   "name": "python3"
  },
  "language_info": {
   "codemirror_mode": {
    "name": "ipython",
    "version": 3
   },
   "file_extension": ".py",
   "mimetype": "text/x-python",
   "name": "python",
   "nbconvert_exporter": "python",
   "pygments_lexer": "ipython3",
   "version": "3.8.6"
  }
 },
 "nbformat": 4,
 "nbformat_minor": 4
}
