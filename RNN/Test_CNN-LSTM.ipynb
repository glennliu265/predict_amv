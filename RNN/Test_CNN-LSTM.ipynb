{
 "cells": [
  {
   "cell_type": "code",
   "execution_count": 1,
   "metadata": {},
   "outputs": [],
   "source": [
    "from __future__ import print_function\n",
    "import argparse\n",
    "import torch\n",
    "import torch.nn as nn\n",
    "import torch.nn.functional as F\n",
    "import torch.optim as optim\n",
    "from torchvision import datasets, transforms\n",
    "from torch.autograd import Variable\n",
    "\n",
    "import numpy as np\n",
    "import matplotlib.pyplot as plt\n",
    "import time\n",
    "from tqdm import tqdm\n",
    "import torchvision.models as models\n",
    "from torch.utils.data import DataLoader, TensorDataset,Dataset\n",
    "import os\n",
    "import copy\n",
    "\n",
    "import timm"
   ]
  },
  {
   "cell_type": "code",
   "execution_count": 82,
   "metadata": {},
   "outputs": [],
   "source": [
    "# Some user edits\n",
    "\n",
    "# Model settings\n",
    "sequence_len  = 12 # length of sequence for RNN in years\n",
    "batch_size    = 4      # Batch size\n",
    "percent_train = .8 # Percentage to train\n",
    "netname       = 'resnet50' # Name of feature extractor \n",
    "cnn_out       = 3          # Number of features extracted by CNN (and input into RNN)\n",
    "rnn_layers    = 1       # Number of RNN layers\n",
    "outsize       = 1       # Final output size\n",
    "outactivation = torch.tanh \n",
    "loss_fn       = nn.MSELoss()          # Loss Function\n",
    "opt           = ['Adadelta',.01,0]    # Name optimizer\n",
    "max_epochs    = 1\n",
    "verbose       = True\n",
    "checkgpu      = False\n",
    "early_stop    = 1\n",
    "\n",
    "# Data settings\n",
    "ens           = 40 # Number of ensemble members to use\n",
    "lead          = 1 # lead/lag between data and label\n",
    "tstep         = 86 # number of timesteps\n"
   ]
  },
  {
   "cell_type": "code",
   "execution_count": 88,
   "metadata": {},
   "outputs": [],
   "source": [
    "# Functions\n",
    "def transfer_model(modelname,outsize):\n",
    "    \"\"\"\n",
    "    Loads in pretrained model [modelname] for feature extraction\n",
    "    All weights are frozen except the last layer, which is replaced with \n",
    "    a fully-connected layer with output size [outsize].\n",
    "    \n",
    "    Inputs\n",
    "    ------\n",
    "        1) modelname [STR] - Name of model in timm module\n",
    "        2) outsize [INT] - Output size for fine tuning\n",
    "    \n",
    "    \n",
    "    \"\"\"\n",
    "    \n",
    "    if modelname == 'resnet50': # Load from torchvision\n",
    "        #model = models.resnet50(pretrained=True) # read in resnet model\n",
    "        model = timm.create_model(modelname)\n",
    "        # Freeze all layers except the last\n",
    "        for param in model.parameters():\n",
    "            param.requires_grad = False\n",
    "        model.fc = nn.Linear(model.fc.in_features, outsize)                    # freeze all layers except the last one\n",
    "    else: # Load from timm\n",
    "        model = timm.create_model(modelname)\n",
    "        # Freeze all layers except the last\n",
    "        for param in model.parameters():\n",
    "            param.requires_grad = False\n",
    "        model.classifier=nn.Linear(model.classifier.in_features,outsize)\n",
    "    return model\n",
    "\n",
    "\n",
    "class Combine(nn.Module):\n",
    "    def __init__(self,feature_extractor,rnn,classifier,activation):\n",
    "        super(Combine, self).__init__()\n",
    "        self.cnn    = feature_extractor # Pretrained CNN (last layer unfrozen)\n",
    "        self.rnn    = rnn # RNN unit (LSTM or GRU)\n",
    "        self.linear = classifier # Classifier Layer\n",
    "        self.activation = activation\n",
    "    \n",
    "    def forward(self, x):\n",
    "        batch_size, timesteps, C, H, W = x.size()\n",
    "        c_in = x.view(batch_size * timesteps, C, H, W)\n",
    "        c_out = self.cnn(c_in)\n",
    "        r_in = c_out.view(batch_size, timesteps, -1)\n",
    "        r_out, (h_n, h_c) = self.rnn(r_in)\n",
    "        r_out2 = self.linear(r_out[:, :, :])\n",
    "        \n",
    "        return self.activation(r_out2)"
   ]
  },
  {
   "cell_type": "code",
   "execution_count": 77,
   "metadata": {},
   "outputs": [
    {
     "name": "stdout",
     "output_type": "stream",
     "text": [
      "CPU times: user 1.34 ms, sys: 847 ms, total: 849 ms\n",
      "Wall time: 848 ms\n"
     ]
    }
   ],
   "source": [
    "%%time\n",
    "# Load in the data \n",
    "# Data : [channel, ensemble, time, lat, lon]\n",
    "# Label: [ensemble, time]\n",
    "\n",
    "# Load the data for whole North Atlantic\n",
    "data   = np.load('../../CESM_data/CESM_data_sst_sss_psl_deseason_normalized_resized.npy')\n",
    "target = np.load('../../CESM_data/CESM_label_amv_index.npy')\n",
    "data   = data[:,0:ens,:,:,:]\n",
    "target = target[0:ens,:]\n",
    "\n",
    "\n",
    "\n"
   ]
  },
  {
   "cell_type": "code",
   "execution_count": 78,
   "metadata": {},
   "outputs": [],
   "source": [
    "# Set up data loader\n",
    "\n",
    "#indata = data[:,:batch_size,:,:,:]\n",
    "#inlabel = target[:batch_size,:]\n",
    "#C,B,T,H,W = indata.shape\n",
    "#inlabel.shape,indata.shape\n",
    "\n",
    "# ----------------------\n",
    "# Apply lead/lag to data\n",
    "# ----------------------\n",
    "\n",
    "y = target[:ens,lead:]#.reshape(ens*(tstep-lead),1)\n",
    "X = (data[:,:,:tstep-lead,:,:].transpose(1,2,0,3,4)) # [Transpose to ens x time x channel x lat x lon]\n",
    "#X = (data[:,:,:tstep-lead,:,:]).transpose(#.reshape(3,ens*(tstep-lead),224,224).transpose(1,0,2,3)\n",
    "        \n",
    "# ---------------------------------\n",
    "# Split into training and test sets\n",
    "# ---------------------------------\n",
    "X_train = torch.from_numpy( X[0:int(np.floor(percent_train*ens)),:,:,:,:].astype(np.float32) )\n",
    "X_val = torch.from_numpy( X[int(np.floor(percent_train*ens)):,:,:,:,:].astype(np.float32) )\n",
    "\n",
    "y_train = torch.from_numpy(  y[0:int(np.floor(percent_train*ens)),:,None].astype(np.float32)  )\n",
    "y_val = torch.from_numpy( y[int(np.floor(percent_train*ens)):,:,None].astype(np.float32)  )\n",
    "\n",
    "# Put into pytorch DataLoader\n",
    "train_loader = DataLoader(TensorDataset(X_train, y_train), batch_size=batch_size)\n",
    "val_loader   = DataLoader(TensorDataset(X_val, y_val), batch_size=batch_size)\n"
   ]
  },
  {
   "cell_type": "markdown",
   "metadata": {},
   "source": [
    "## Test things out"
   ]
  },
  {
   "cell_type": "code",
   "execution_count": 79,
   "metadata": {},
   "outputs": [
    {
     "data": {
      "text/plain": [
       "(8, torch.Size([4, 85, 3, 224, 224]), torch.Size([4, 85, 1]))"
      ]
     },
     "execution_count": 79,
     "metadata": {},
     "output_type": "execute_result"
    }
   ],
   "source": [
    "# Load sample data\n",
    "testdata = []\n",
    "for data in train_loader:\n",
    "    testdata.append(data)\n",
    "\n",
    "test = testdata[0][0]\n",
    "tlabel = testdata[0][1]\n",
    "len(testdata),test.size(),tlabel.shape"
   ]
  },
  {
   "cell_type": "code",
   "execution_count": 80,
   "metadata": {},
   "outputs": [],
   "source": [
    "\n",
    "\n",
    "# Get the model\n",
    "model = transfer_model(netname,cnn_out)\n",
    "\n",
    "# Define the LSTM or RNN unit\n",
    "rnn = nn.LSTM(\n",
    "        input_size=cnn_out,\n",
    "        hidden_size=sequence_len,\n",
    "        num_layers=rnn_layers,\n",
    "        batch_first=True # Input is [batch,seq,feature]\n",
    "        )\n",
    "\n",
    "# Classifier\n",
    "classifier = nn.Linear(sequence_len,outsize)"
   ]
  },
  {
   "cell_type": "code",
   "execution_count": 81,
   "metadata": {},
   "outputs": [
    {
     "name": "stdout",
     "output_type": "stream",
     "text": [
      "CPU times: user 59.5 s, sys: 8.74 s, total: 1min 8s\n",
      "Wall time: 1min 8s\n"
     ]
    },
    {
     "data": {
      "text/plain": [
       "torch.Size([340, 3])"
      ]
     },
     "execution_count": 81,
     "metadata": {},
     "output_type": "execute_result"
    }
   ],
   "source": [
    "%%time\n",
    "# Combine batchsize and timesteps and put into feature extractor\n",
    "x = test\n",
    "bsize, timesteps, C, H, W = x.size()\n",
    "c_in  = x.view(bsize * timesteps, C, H, W)\n",
    "c_out = model(c_in) # output is [bsize*timesteps,channels]\n",
    "c_out.shape"
   ]
  },
  {
   "cell_type": "code",
   "execution_count": 28,
   "metadata": {},
   "outputs": [
    {
     "name": "stdout",
     "output_type": "stream",
     "text": [
      "CPU times: user 6.89 ms, sys: 1.23 ms, total: 8.12 ms\n",
      "Wall time: 6.8 ms\n"
     ]
    },
    {
     "data": {
      "text/plain": [
       "torch.Size([4, 86, 12])"
      ]
     },
     "execution_count": 28,
     "metadata": {},
     "output_type": "execute_result"
    }
   ],
   "source": [
    "%%time\n",
    "r_in = c_out.view(bsize, timesteps, -1)\n",
    "r_out, (h_n, h_c) = rnn(r_in)\n",
    "\n",
    "#r_out2 = self.linear(r_out[:, -1, :])\n",
    "\n",
    "r_out.shape"
   ]
  },
  {
   "cell_type": "code",
   "execution_count": 29,
   "metadata": {},
   "outputs": [
    {
     "data": {
      "text/plain": [
       "(torch.Size([4, 86, 1]), torch.Size([4, 86, 1]))"
      ]
     },
     "execution_count": 29,
     "metadata": {},
     "output_type": "execute_result"
    }
   ],
   "source": [
    "r_out2 = classifier(r_out[:, :, :]) # Get last value and pass into the linear layer\n",
    "prediction = torch.tanh(r_out2) # [ens x 1]\n",
    "\n",
    "\n",
    "r_out2.shape,prediction.shape"
   ]
  },
  {
   "cell_type": "code",
   "execution_count": 30,
   "metadata": {},
   "outputs": [
    {
     "data": {
      "text/plain": [
       "[<matplotlib.lines.Line2D at 0x7fb668869c10>]"
      ]
     },
     "execution_count": 30,
     "metadata": {},
     "output_type": "execute_result"
    },
    {
     "data": {
      "image/png": "[encoded data removed]",
      "text/plain": [
       "<Figure size 432x288 with 1 Axes>"
      ]
     },
     "metadata": {
      "needs_background": "light"
     },
     "output_type": "display_data"
    }
   ],
   "source": [
    "fig,ax = plt.subplots(1,1)\n",
    "ax.plot(tlabel[0,:],label='label')\n",
    "ax.plot(prediction[0,:,0].detach().numpy(),label='prediction')"
   ]
  },
  {
   "cell_type": "code",
   "execution_count": 75,
   "metadata": {},
   "outputs": [
    {
     "data": {
      "text/plain": [
       "tensor([[[0.],\n",
       "         [0.],\n",
       "         [0.],\n",
       "         [0.],\n",
       "         [0.],\n",
       "         [0.],\n",
       "         [0.],\n",
       "         [0.],\n",
       "         [0.],\n",
       "         [0.],\n",
       "         [0.],\n",
       "         [0.],\n",
       "         [0.],\n",
       "         [0.],\n",
       "         [0.],\n",
       "         [0.],\n",
       "         [0.],\n",
       "         [0.],\n",
       "         [0.],\n",
       "         [0.],\n",
       "         [0.],\n",
       "         [0.],\n",
       "         [0.],\n",
       "         [0.],\n",
       "         [0.],\n",
       "         [0.],\n",
       "         [0.],\n",
       "         [0.],\n",
       "         [0.],\n",
       "         [0.],\n",
       "         [0.],\n",
       "         [0.],\n",
       "         [0.],\n",
       "         [0.],\n",
       "         [0.],\n",
       "         [0.],\n",
       "         [0.],\n",
       "         [0.],\n",
       "         [0.],\n",
       "         [0.],\n",
       "         [0.],\n",
       "         [0.],\n",
       "         [0.],\n",
       "         [0.],\n",
       "         [0.],\n",
       "         [0.],\n",
       "         [0.],\n",
       "         [0.],\n",
       "         [0.],\n",
       "         [0.],\n",
       "         [0.],\n",
       "         [0.],\n",
       "         [0.],\n",
       "         [0.],\n",
       "         [0.],\n",
       "         [0.],\n",
       "         [0.],\n",
       "         [0.],\n",
       "         [0.],\n",
       "         [0.],\n",
       "         [0.],\n",
       "         [0.],\n",
       "         [0.],\n",
       "         [0.],\n",
       "         [0.],\n",
       "         [0.],\n",
       "         [0.],\n",
       "         [0.],\n",
       "         [0.],\n",
       "         [0.],\n",
       "         [0.],\n",
       "         [0.],\n",
       "         [0.],\n",
       "         [0.],\n",
       "         [0.],\n",
       "         [0.],\n",
       "         [0.],\n",
       "         [0.],\n",
       "         [0.],\n",
       "         [0.],\n",
       "         [0.],\n",
       "         [0.],\n",
       "         [0.],\n",
       "         [0.],\n",
       "         [0.],\n",
       "         [0.]],\n",
       "\n",
       "        [[0.],\n",
       "         [0.],\n",
       "         [0.],\n",
       "         [0.],\n",
       "         [0.],\n",
       "         [0.],\n",
       "         [0.],\n",
       "         [0.],\n",
       "         [0.],\n",
       "         [0.],\n",
       "         [0.],\n",
       "         [0.],\n",
       "         [0.],\n",
       "         [0.],\n",
       "         [0.],\n",
       "         [0.],\n",
       "         [0.],\n",
       "         [0.],\n",
       "         [0.],\n",
       "         [0.],\n",
       "         [0.],\n",
       "         [0.],\n",
       "         [0.],\n",
       "         [0.],\n",
       "         [0.],\n",
       "         [0.],\n",
       "         [0.],\n",
       "         [0.],\n",
       "         [0.],\n",
       "         [0.],\n",
       "         [0.],\n",
       "         [0.],\n",
       "         [0.],\n",
       "         [0.],\n",
       "         [0.],\n",
       "         [0.],\n",
       "         [0.],\n",
       "         [0.],\n",
       "         [0.],\n",
       "         [0.],\n",
       "         [0.],\n",
       "         [0.],\n",
       "         [0.],\n",
       "         [0.],\n",
       "         [0.],\n",
       "         [0.],\n",
       "         [0.],\n",
       "         [0.],\n",
       "         [0.],\n",
       "         [0.],\n",
       "         [0.],\n",
       "         [0.],\n",
       "         [0.],\n",
       "         [0.],\n",
       "         [0.],\n",
       "         [0.],\n",
       "         [0.],\n",
       "         [0.],\n",
       "         [0.],\n",
       "         [0.],\n",
       "         [0.],\n",
       "         [0.],\n",
       "         [0.],\n",
       "         [0.],\n",
       "         [0.],\n",
       "         [0.],\n",
       "         [0.],\n",
       "         [0.],\n",
       "         [0.],\n",
       "         [0.],\n",
       "         [0.],\n",
       "         [0.],\n",
       "         [0.],\n",
       "         [0.],\n",
       "         [0.],\n",
       "         [0.],\n",
       "         [0.],\n",
       "         [0.],\n",
       "         [0.],\n",
       "         [0.],\n",
       "         [0.],\n",
       "         [0.],\n",
       "         [0.],\n",
       "         [0.],\n",
       "         [0.],\n",
       "         [0.]],\n",
       "\n",
       "        [[0.],\n",
       "         [0.],\n",
       "         [0.],\n",
       "         [0.],\n",
       "         [0.],\n",
       "         [0.],\n",
       "         [0.],\n",
       "         [0.],\n",
       "         [0.],\n",
       "         [0.],\n",
       "         [0.],\n",
       "         [0.],\n",
       "         [0.],\n",
       "         [0.],\n",
       "         [0.],\n",
       "         [0.],\n",
       "         [0.],\n",
       "         [0.],\n",
       "         [0.],\n",
       "         [0.],\n",
       "         [0.],\n",
       "         [0.],\n",
       "         [0.],\n",
       "         [0.],\n",
       "         [0.],\n",
       "         [0.],\n",
       "         [0.],\n",
       "         [0.],\n",
       "         [0.],\n",
       "         [0.],\n",
       "         [0.],\n",
       "         [0.],\n",
       "         [0.],\n",
       "         [0.],\n",
       "         [0.],\n",
       "         [0.],\n",
       "         [0.],\n",
       "         [0.],\n",
       "         [0.],\n",
       "         [0.],\n",
       "         [0.],\n",
       "         [0.],\n",
       "         [0.],\n",
       "         [0.],\n",
       "         [0.],\n",
       "         [0.],\n",
       "         [0.],\n",
       "         [0.],\n",
       "         [0.],\n",
       "         [0.],\n",
       "         [0.],\n",
       "         [0.],\n",
       "         [0.],\n",
       "         [0.],\n",
       "         [0.],\n",
       "         [0.],\n",
       "         [0.],\n",
       "         [0.],\n",
       "         [0.],\n",
       "         [0.],\n",
       "         [0.],\n",
       "         [0.],\n",
       "         [0.],\n",
       "         [0.],\n",
       "         [0.],\n",
       "         [0.],\n",
       "         [0.],\n",
       "         [0.],\n",
       "         [0.],\n",
       "         [0.],\n",
       "         [0.],\n",
       "         [0.],\n",
       "         [0.],\n",
       "         [0.],\n",
       "         [0.],\n",
       "         [0.],\n",
       "         [0.],\n",
       "         [0.],\n",
       "         [0.],\n",
       "         [0.],\n",
       "         [0.],\n",
       "         [0.],\n",
       "         [0.],\n",
       "         [0.],\n",
       "         [0.],\n",
       "         [0.]],\n",
       "\n",
       "        [[0.],\n",
       "         [0.],\n",
       "         [0.],\n",
       "         [0.],\n",
       "         [0.],\n",
       "         [0.],\n",
       "         [0.],\n",
       "         [0.],\n",
       "         [0.],\n",
       "         [0.],\n",
       "         [0.],\n",
       "         [0.],\n",
       "         [0.],\n",
       "         [0.],\n",
       "         [0.],\n",
       "         [0.],\n",
       "         [0.],\n",
       "         [0.],\n",
       "         [0.],\n",
       "         [0.],\n",
       "         [0.],\n",
       "         [0.],\n",
       "         [0.],\n",
       "         [0.],\n",
       "         [0.],\n",
       "         [0.],\n",
       "         [0.],\n",
       "         [0.],\n",
       "         [0.],\n",
       "         [0.],\n",
       "         [0.],\n",
       "         [0.],\n",
       "         [0.],\n",
       "         [0.],\n",
       "         [0.],\n",
       "         [0.],\n",
       "         [0.],\n",
       "         [0.],\n",
       "         [0.],\n",
       "         [0.],\n",
       "         [0.],\n",
       "         [0.],\n",
       "         [0.],\n",
       "         [0.],\n",
       "         [0.],\n",
       "         [0.],\n",
       "         [0.],\n",
       "         [0.],\n",
       "         [0.],\n",
       "         [0.],\n",
       "         [0.],\n",
       "         [0.],\n",
       "         [0.],\n",
       "         [0.],\n",
       "         [0.],\n",
       "         [0.],\n",
       "         [0.],\n",
       "         [0.],\n",
       "         [0.],\n",
       "         [0.],\n",
       "         [0.],\n",
       "         [0.],\n",
       "         [0.],\n",
       "         [0.],\n",
       "         [0.],\n",
       "         [0.],\n",
       "         [0.],\n",
       "         [0.],\n",
       "         [0.],\n",
       "         [0.],\n",
       "         [0.],\n",
       "         [0.],\n",
       "         [0.],\n",
       "         [0.],\n",
       "         [0.],\n",
       "         [0.],\n",
       "         [0.],\n",
       "         [0.],\n",
       "         [0.],\n",
       "         [0.],\n",
       "         [0.],\n",
       "         [0.],\n",
       "         [0.],\n",
       "         [0.],\n",
       "         [0.],\n",
       "         [0.]]], grad_fn=<ReluBackward0>)"
      ]
     },
     "execution_count": 75,
     "metadata": {},
     "output_type": "execute_result"
    }
   ],
   "source": [
    "prediction"
   ]
  },
  {
   "cell_type": "code",
   "execution_count": 89,
   "metadata": {},
   "outputs": [
    {
     "name": "stdout",
     "output_type": "stream",
     "text": [
      "Params to learn:\n",
      "\t cnn.fc.weight\n",
      "Params to learn:\n",
      "\t cnn.fc.bias\n",
      "Params to learn:\n",
      "\t rnn.weight_ih_l0\n",
      "Params to learn:\n",
      "\t rnn.weight_hh_l0\n",
      "Params to learn:\n",
      "\t rnn.bias_ih_l0\n",
      "Params to learn:\n",
      "\t rnn.bias_hh_l0\n",
      "Params to learn:\n",
      "\t linear.weight\n",
      "Params to learn:\n",
      "\t linear.bias\n"
     ]
    }
   ],
   "source": [
    "# Test out the combine\n",
    "\n",
    "seqmodel = Combine(model,rnn,classifier,outactivation)\n",
    "#seqmodel\n",
    "\n",
    "# Get list of params to update\n",
    "params_to_update = []\n",
    "for name,param in seqmodel.named_parameters():\n",
    "    if param.requires_grad == True:\n",
    "        params_to_update.append(param)\n",
    "        print(\"Params to learn:\")\n",
    "        print(\"\\t\",name)"
   ]
  },
  {
   "cell_type": "code",
   "execution_count": 85,
   "metadata": {},
   "outputs": [],
   "source": [
    "def train_ResNet(model,loss_fn,optimizer,trainloader,testloader,max_epochs,early_stop=False,verbose=True):\n",
    "    \"\"\"\n",
    "    inputs:\n",
    "        model       - Resnet model\n",
    "        loss_fn     - (torch.nn) loss function\n",
    "        opt         - tuple of [optimizer_name, learning_rate, weight_decay] for updating the weights\n",
    "                      currently supports \"Adadelta\" and \"SGD\" optimizers\n",
    "        trainloader - (torch.utils.data.DataLoader) for training datasetmo\n",
    "        testloader  - (torch.utils.data.DataLoader) for testing dataset\n",
    "        max_epochs  - number of training epochs\n",
    "        early_stop  - BOOL or INT, Stop training after N epochs of increasing validation error\n",
    "                     (set to False to stop at max epoch, or INT for number of epochs)\n",
    "        verbose     - set to True to display training messages\n",
    "    \n",
    "    output:\n",
    "    \n",
    "    dependencies:\n",
    "        from torch import nn,optim\n",
    "        \n",
    "    \"\"\"\n",
    "    \n",
    "    # #model =   timm.create_model('tf_efficientnet_l2_ns') # read in resnet model\n",
    "    # model = timm.create_model(\"tf_efficientnet_b7_ns\")\n",
    "    # for param in model.parameters():\n",
    "    #     print(param)\n",
    "    #     print(param.requires_grad)\n",
    "    #     param.requires_grad = False\n",
    "    \n",
    "    # #model.classifier = nn.Linear(5504, 1) # freeze all layers except the last one l2-noisy student\n",
    "    # model.classifier=nn.Linear(model.classifier.in_features,1)\n",
    "    \n",
    "    bestloss = np.infty\n",
    "    \n",
    "    # Check if there is GPU\n",
    "    if checkgpu:\n",
    "        device = torch.device('cuda' if torch.cuda.is_available() else 'cpu')\n",
    "    else:\n",
    "        device = torch.device('cpu')\n",
    "    model = model.to(device)\n",
    "    \n",
    "    \n",
    "    # Get list of params to update\n",
    "    params_to_update = []\n",
    "    for name,param in model.named_parameters():\n",
    "        if param.requires_grad == True:\n",
    "            params_to_update.append(param)\n",
    "            if verbose:\n",
    "                print(\"Params to learn:\")\n",
    "                print(\"\\t\",name)\n",
    "    \n",
    "    \n",
    "    # Set optimizer\n",
    "    if optimizer[0] == \"Adadelta\":\n",
    "        opt = optim.Adadelta(params_to_update,lr=optimizer[1],weight_decay=optimizer[2])\n",
    "    elif optimizer[0] == \"SGD\":\n",
    "        opt = optim.SGD(params_to_update,lr=optimizer[1],weight_decay=optimizer[2])\n",
    "    elif optimizer[0] == 'Adam':\n",
    "        opt = optim.Adam(params_to_update,lr=optimizer[1],weight_decay=optimizer[2])\n",
    "    \n",
    "    # Set early stopping threshold and counter\n",
    "    if early_stop is False:\n",
    "        i_thres = max_epochs\n",
    "    else:\n",
    "        i_thres = early_stop\n",
    "    i_incr    = 0 # Number of epochs for which the validation loss increases\n",
    "    prev_loss = 0 # Variable to store previous loss\n",
    "    \n",
    "    # Main Loop\n",
    "    train_loss,test_loss = [],[]   # Preallocate tuples to store loss\n",
    "    for epoch in tqdm(range(max_epochs)): # loop by epoch\n",
    "    #for epoch in range(max_epochs):\n",
    "        for mode,data_loader in [('train',trainloader),('eval',testloader)]: # train/test for each epoch\n",
    "    \n",
    "            if mode == 'train':  # Training, update weights\n",
    "                model.train()\n",
    "            elif mode == 'eval': # Testing, freeze weights\n",
    "                model.eval()\n",
    "               \n",
    "            runningloss = 0\n",
    "            for i,data in enumerate(data_loader):\n",
    "                \n",
    "                # Get mini batch\n",
    "                batch_x, batch_y = data\n",
    "                batch_x = batch_x.to(device)\n",
    "                batch_y = batch_y.to(device)\n",
    "                \n",
    "                # Set gradients to zero\n",
    "                opt.zero_grad()\n",
    "                \n",
    "                # Forward pass\n",
    "                pred_y = model(batch_x)\n",
    "                \n",
    "                # Calculate losslay\n",
    "                loss = loss_fn(pred_y,batch_y)\n",
    "                \n",
    "                # Update weights\n",
    "                if mode == 'train':\n",
    "                    loss.backward() # Backward pass to calculate gradients w.r.t. loss\n",
    "                    opt.step()      # Update weights using optimizer\n",
    "                \n",
    "                runningloss += float(loss.item())\n",
    "\n",
    "            if verbose: # Print progress message\n",
    "                print('{} Set: Epoch {:02d}. loss: {:3f}'.format(mode, epoch+1, \\\n",
    "                                                runningloss/len(data_loader)))\n",
    "            \n",
    "            # Save model if this is the best loss\n",
    "            if (runningloss/len(data_loader) < bestloss) and (mode == 'eval'):\n",
    "                bestloss = runningloss/len(data_loader)\n",
    "                bestmodel = copy.deepcopy(model)\n",
    "                #best_model_wts = copy.deepcopy(model.state_dict())\n",
    "                if verbose:\n",
    "                    print(\"Best Loss of %f at epoch %i\"% (bestloss,epoch+1))\n",
    "                \n",
    "            # Save running loss values for the epoch\n",
    "            if mode == 'train':\n",
    "                train_loss.append(runningloss/len(data_loader))\n",
    "            else:\n",
    "                test_loss.append(runningloss/len(data_loader))\n",
    "                \n",
    "                # Evaluate if early stopping is needed\n",
    "                if epoch == 0: # Save previous loss\n",
    "                    lossprev = runningloss/len(data_loader)\n",
    "                else: # Add to counter if validation loss increases\n",
    "                    if runningloss/len(data_loader) > lossprev:\n",
    "                        if verbose:\n",
    "                            print(\"Validation loss has increased at epoch %i\"%(epoch+1))\n",
    "                        i_incr += 1\n",
    "                        lossprev = runningloss/len(data_loader)\n",
    "                        \n",
    "                if (epoch != 0) and (i_incr >= i_thres):\n",
    "                    print(\"\\tEarly stop at epoch %i \"% (epoch+1))\n",
    "                    return bestmodel,train_loss,test_loss  \n",
    "            \n",
    "            # Clear some memory\n",
    "            #print(\"Before clearing in epoch %i mode %s, memory is %i\"%(epoch,mode,torch.cuda.memory_allocated(device)))\n",
    "            del batch_x\n",
    "            del batch_y\n",
    "            torch.cuda.empty_cache() \n",
    "            #print(\"After clearing in epoch %i mode %s, memory is %i\"%(epoch,mode,torch.cuda.memory_allocated(device)))\n",
    "                \n",
    "    #bestmodel.load_state_dict(best_model_wts)         \n",
    "    return bestmodel,train_loss,test_loss    "
   ]
  },
  {
   "cell_type": "code",
   "execution_count": 91,
   "metadata": {},
   "outputs": [
    {
     "name": "stderr",
     "output_type": "stream",
     "text": [
      "\r",
      "  0%|          | 0/1 [00:00<?, ?it/s]"
     ]
    },
    {
     "name": "stdout",
     "output_type": "stream",
     "text": [
      "Params to learn:\n",
      "\t cnn.fc.weight\n",
      "Params to learn:\n",
      "\t cnn.fc.bias\n",
      "Params to learn:\n",
      "\t rnn.weight_ih_l0\n",
      "Params to learn:\n",
      "\t rnn.weight_hh_l0\n",
      "Params to learn:\n",
      "\t rnn.bias_ih_l0\n",
      "Params to learn:\n",
      "\t rnn.bias_hh_l0\n",
      "Params to learn:\n",
      "\t linear.weight\n",
      "Params to learn:\n",
      "\t linear.bias\n",
      "train Set: Epoch 01. loss: 0.154774\n"
     ]
    },
    {
     "name": "stderr",
     "output_type": "stream",
     "text": [
      "100%|██████████| 1/1 [10:18<00:00, 618.51s/it]"
     ]
    },
    {
     "name": "stdout",
     "output_type": "stream",
     "text": [
      "eval Set: Epoch 01. loss: 0.166188\n",
      "Best Loss of 0.166188 at epoch 1\n",
      "CPU times: user 9min 25s, sys: 1min 16s, total: 10min 42s\n",
      "Wall time: 10min 18s\n"
     ]
    },
    {
     "name": "stderr",
     "output_type": "stream",
     "text": [
      "\n"
     ]
    }
   ],
   "source": [
    "%%time\n",
    "smodel,trainloss,testloss = train_ResNet(seqmodel,loss_fn,opt,train_loader,val_loader,max_epochs,early_stop=early_stop,verbose=verbose)\n",
    "        "
   ]
  },
  {
   "cell_type": "code",
   "execution_count": 92,
   "metadata": {},
   "outputs": [
    {
     "name": "stdout",
     "output_type": "stream",
     "text": [
      "(4, 85, 1)\n",
      "(4, 85, 1)\n",
      "(4, 85, 1)\n",
      "(4, 85, 1)\n"
     ]
    }
   ],
   "source": [
    "%%time\n",
    "device = torch.device('cuda' if torch.cuda.is_available() else 'cpu')\n",
    "X_val = X_val.to(device)\n",
    "\n",
    "y_pred_val = np.asarray([[],[],[],[]]).T\n",
    "y_valdt    = np.asarray([[],[],[],[]]).T\n",
    "for i,vdata in enumerate(val_loader):\n",
    "    # Get mini batch\n",
    "    batch_x, batch_y = vdata\n",
    "    batch_x = batch_x.to(device)\n",
    "    batch_y = batch_y.to(device)\n",
    "\n",
    "    \n",
    "    # Make prediction and concatenate\n",
    "    batch_pred = smodel(batch_x)\n",
    "    \n",
    "    print(batch_pred.detach().cpu().numpy().shape)\n",
    "    print(batch_y.detach().cpu().numpy().shape)\n",
    "    \n",
    "    if i == 0:\n",
    "        y_pred_val=batch_pred.detach().cpu().numpy().squeeze()\n",
    "        y_valdt = batch_y.detach().cpu().numpy().squeeze()\n",
    "    else:\n",
    "        y_pred_val = np.concatenate([y_pred_val,batch_pred.detach().cpu().numpy().squeeze()])\n",
    "        y_valdt = np.concatenate([y_valdt,batch_y.detach().cpu().numpy().squeeze()])"
   ]
  },
  {
   "cell_type": "code",
   "execution_count": 98,
   "metadata": {},
   "outputs": [
    {
     "data": {
      "text/plain": [
       "<matplotlib.legend.Legend at 0x7fb64dafe890>"
      ]
     },
     "execution_count": 98,
     "metadata": {},
     "output_type": "execute_result"
    },
    {
     "data": {
      "image/png": "[encoded data removed]",
      "text/plain": [
       "<Figure size 432x288 with 2 Axes>"
      ]
     },
     "metadata": {
      "needs_background": "light"
     },
     "output_type": "display_data"
    }
   ],
   "source": [
    "i = 4\n",
    "fig,ax = plt.subplots(1,1)\n",
    "\n",
    "ax.plot(y_valdt[i,:],label='label')\n",
    "ax2 = ax.twinx()\n",
    "ax2.plot(y_pred_val[i,:],label='prediction')\n",
    "ax.legend()"
   ]
  },
  {
   "cell_type": "code",
   "execution_count": 66,
   "metadata": {},
   "outputs": [
    {
     "data": {
      "text/plain": [
       "(8, 86)"
      ]
     },
     "execution_count": 66,
     "metadata": {},
     "output_type": "execute_result"
    }
   ],
   "source": [
    "y_valdt.shape"
   ]
  },
  {
   "cell_type": "code",
   "execution_count": 94,
   "metadata": {},
   "outputs": [],
   "source": [
    "# Calculate correlation between each timeseries\n",
    "testcorr = []\n",
    "for i in range(y_pred_val.shape[0]):\n",
    "    testcorr.append(np.corrcoef( y_pred_val.T[i,:], y_valdt.T[i,:])[0,1])"
   ]
  },
  {
   "cell_type": "code",
   "execution_count": 95,
   "metadata": {},
   "outputs": [
    {
     "data": {
      "text/plain": [
       "[-0.3469255158422895,\n",
       " 0.09424422387508474,\n",
       " -0.3586129755442375,\n",
       " -0.39330573573453675,\n",
       " 0.2567454933792695,\n",
       " 0.2352215809744237,\n",
       " -0.0765182133032967,\n",
       " -0.24265041572525015]"
      ]
     },
     "execution_count": 95,
     "metadata": {},
     "output_type": "execute_result"
    }
   ],
   "source": [
    "testcorr\n"
   ]
  },
  {
   "cell_type": "code",
   "execution_count": 97,
   "metadata": {},
   "outputs": [
    {
     "data": {
      "text/plain": [
       "Text(0, 0.5, 'Pred')"
      ]
     },
     "execution_count": 97,
     "metadata": {},
     "output_type": "execute_result"
    },
    {
     "data": {
      "image/png": "[encoded data removed]",
      "text/plain": [
       "<Figure size 432x288 with 1 Axes>"
      ]
     },
     "metadata": {
      "needs_background": "light"
     },
     "output_type": "display_data"
    }
   ],
   "source": [
    "i = 4\n",
    "fig,ax = plt.subplots(1,1)\n",
    "\n",
    "ax.scatter(y_valdt[i,:],y_pred_val[i,:])\n",
    "ax.set_xlabel(\"Actual\")\n",
    "ax.set_ylabel(\"Pred\")\n"
   ]
  },
  {
   "cell_type": "code",
   "execution_count": null,
   "metadata": {},
   "outputs": [],
   "source": []
  }
 ],
 "metadata": {
  "kernelspec": {
   "display_name": "Python 3",
   "language": "python",
   "name": "python3"
  },
  "language_info": {
   "codemirror_mode": {
    "name": "ipython",
    "version": 3
   },
   "file_extension": ".py",
   "mimetype": "text/x-python",
   "name": "python",
   "nbconvert_exporter": "python",
   "pygments_lexer": "ipython3",
   "version": "3.7.6"
  },
  "varInspector": {
   "cols": {
    "lenName": 16,
    "lenType": 16,
    "lenVar": 40
   },
   "kernels_config": {
    "python": {
     "delete_cmd_postfix": "",
     "delete_cmd_prefix": "del ",
     "library": "var_list.py",
     "varRefreshCmd": "print(var_dic_list())"
    },
    "r": {
     "delete_cmd_postfix": ") ",
     "delete_cmd_prefix": "rm(",
     "library": "var_list.r",
     "varRefreshCmd": "cat(var_dic_list()) "
    }
   },
   "oldHeight": 279.78366600000004,
   "position": {
    "height": "586.783px",
    "left": "916.4px",
    "right": "20px",
    "top": "114px",
    "width": "425.4px"
   },
   "types_to_exclude": [
    "module",
    "function",
    "builtin_function_or_method",
    "instance",
    "_Feature"
   ],
   "varInspector_section_display": "block",
   "window_display": true
  }
 },
 "nbformat": 4,
 "nbformat_minor": 4
}
